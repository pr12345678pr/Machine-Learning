{
 "cells": [
  {
   "cell_type": "markdown",
   "metadata": {},
   "source": [
    "## To predict gold prices based on several other stock prices"
   ]
  },
  {
   "cell_type": "markdown",
   "metadata": {
    "id": "i1h7LAlVa7Gu"
   },
   "source": [
    "Importing the Libraries"
   ]
  },
  {
   "cell_type": "code",
   "execution_count": 1,
   "metadata": {
    "id": "d2o7jdWHXE6K"
   },
   "outputs": [],
   "source": [
    "import numpy as np\n",
    "import pandas as pd\n",
    "import matplotlib.pyplot as plt\n",
    "import seaborn as sns\n",
    "from sklearn.model_selection import train_test_split\n",
    "from sklearn.ensemble import RandomForestRegressor\n",
    "from sklearn import metrics"
   ]
  },
  {
   "cell_type": "markdown",
   "metadata": {
    "id": "Y1jC584Mbd4Q"
   },
   "source": [
    "Data Collection and Processing"
   ]
  },
  {
   "cell_type": "code",
   "execution_count": 2,
   "metadata": {
    "id": "BQtjCTzHbZQO"
   },
   "outputs": [],
   "source": [
    "# loading the csv data to a Pandas DataFrame\n",
    "gold_data = pd.read_csv('gld_price_data.csv')"
   ]
  },
  {
   "cell_type": "code",
   "execution_count": 3,
   "metadata": {
    "colab": {
     "base_uri": "https://localhost:8080/",
     "height": 198
    },
    "id": "S5xeeB9LbyA9",
    "outputId": "a80fe09f-64e8-449d-b8d2-01a2b8919b82"
   },
   "outputs": [
    {
     "data": {
      "text/html": [
       "<div>\n",
       "<style scoped>\n",
       "    .dataframe tbody tr th:only-of-type {\n",
       "        vertical-align: middle;\n",
       "    }\n",
       "\n",
       "    .dataframe tbody tr th {\n",
       "        vertical-align: top;\n",
       "    }\n",
       "\n",
       "    .dataframe thead th {\n",
       "        text-align: right;\n",
       "    }\n",
       "</style>\n",
       "<table border=\"1\" class=\"dataframe\">\n",
       "  <thead>\n",
       "    <tr style=\"text-align: right;\">\n",
       "      <th></th>\n",
       "      <th>Date</th>\n",
       "      <th>SPX</th>\n",
       "      <th>GLD</th>\n",
       "      <th>USO</th>\n",
       "      <th>SLV</th>\n",
       "      <th>EUR/USD</th>\n",
       "    </tr>\n",
       "  </thead>\n",
       "  <tbody>\n",
       "    <tr>\n",
       "      <th>0</th>\n",
       "      <td>1/2/2008</td>\n",
       "      <td>1447.160034</td>\n",
       "      <td>84.860001</td>\n",
       "      <td>78.470001</td>\n",
       "      <td>15.180</td>\n",
       "      <td>1.471692</td>\n",
       "    </tr>\n",
       "    <tr>\n",
       "      <th>1</th>\n",
       "      <td>1/3/2008</td>\n",
       "      <td>1447.160034</td>\n",
       "      <td>85.570000</td>\n",
       "      <td>78.370003</td>\n",
       "      <td>15.285</td>\n",
       "      <td>1.474491</td>\n",
       "    </tr>\n",
       "    <tr>\n",
       "      <th>2</th>\n",
       "      <td>1/4/2008</td>\n",
       "      <td>1411.630005</td>\n",
       "      <td>85.129997</td>\n",
       "      <td>77.309998</td>\n",
       "      <td>15.167</td>\n",
       "      <td>1.475492</td>\n",
       "    </tr>\n",
       "    <tr>\n",
       "      <th>3</th>\n",
       "      <td>1/7/2008</td>\n",
       "      <td>1416.180054</td>\n",
       "      <td>84.769997</td>\n",
       "      <td>75.500000</td>\n",
       "      <td>15.053</td>\n",
       "      <td>1.468299</td>\n",
       "    </tr>\n",
       "    <tr>\n",
       "      <th>4</th>\n",
       "      <td>1/8/2008</td>\n",
       "      <td>1390.189941</td>\n",
       "      <td>86.779999</td>\n",
       "      <td>76.059998</td>\n",
       "      <td>15.590</td>\n",
       "      <td>1.557099</td>\n",
       "    </tr>\n",
       "  </tbody>\n",
       "</table>\n",
       "</div>"
      ],
      "text/plain": [
       "       Date          SPX        GLD        USO     SLV   EUR/USD\n",
       "0  1/2/2008  1447.160034  84.860001  78.470001  15.180  1.471692\n",
       "1  1/3/2008  1447.160034  85.570000  78.370003  15.285  1.474491\n",
       "2  1/4/2008  1411.630005  85.129997  77.309998  15.167  1.475492\n",
       "3  1/7/2008  1416.180054  84.769997  75.500000  15.053  1.468299\n",
       "4  1/8/2008  1390.189941  86.779999  76.059998  15.590  1.557099"
      ]
     },
     "execution_count": 3,
     "metadata": {},
     "output_type": "execute_result"
    }
   ],
   "source": [
    "# print first 5 rows in the dataframe\n",
    "gold_data.head()"
   ]
  },
  {
   "cell_type": "code",
   "execution_count": 4,
   "metadata": {
    "colab": {
     "base_uri": "https://localhost:8080/",
     "height": 198
    },
    "id": "NrywfHOBb6HD",
    "outputId": "8167fc52-3dc2-4227-ba75-172e7e2c3b12"
   },
   "outputs": [
    {
     "data": {
      "text/html": [
       "<div>\n",
       "<style scoped>\n",
       "    .dataframe tbody tr th:only-of-type {\n",
       "        vertical-align: middle;\n",
       "    }\n",
       "\n",
       "    .dataframe tbody tr th {\n",
       "        vertical-align: top;\n",
       "    }\n",
       "\n",
       "    .dataframe thead th {\n",
       "        text-align: right;\n",
       "    }\n",
       "</style>\n",
       "<table border=\"1\" class=\"dataframe\">\n",
       "  <thead>\n",
       "    <tr style=\"text-align: right;\">\n",
       "      <th></th>\n",
       "      <th>Date</th>\n",
       "      <th>SPX</th>\n",
       "      <th>GLD</th>\n",
       "      <th>USO</th>\n",
       "      <th>SLV</th>\n",
       "      <th>EUR/USD</th>\n",
       "    </tr>\n",
       "  </thead>\n",
       "  <tbody>\n",
       "    <tr>\n",
       "      <th>2285</th>\n",
       "      <td>5/8/2018</td>\n",
       "      <td>2671.919922</td>\n",
       "      <td>124.589996</td>\n",
       "      <td>14.0600</td>\n",
       "      <td>15.5100</td>\n",
       "      <td>1.186789</td>\n",
       "    </tr>\n",
       "    <tr>\n",
       "      <th>2286</th>\n",
       "      <td>5/9/2018</td>\n",
       "      <td>2697.790039</td>\n",
       "      <td>124.330002</td>\n",
       "      <td>14.3700</td>\n",
       "      <td>15.5300</td>\n",
       "      <td>1.184722</td>\n",
       "    </tr>\n",
       "    <tr>\n",
       "      <th>2287</th>\n",
       "      <td>5/10/2018</td>\n",
       "      <td>2723.070068</td>\n",
       "      <td>125.180000</td>\n",
       "      <td>14.4100</td>\n",
       "      <td>15.7400</td>\n",
       "      <td>1.191753</td>\n",
       "    </tr>\n",
       "    <tr>\n",
       "      <th>2288</th>\n",
       "      <td>5/14/2018</td>\n",
       "      <td>2730.129883</td>\n",
       "      <td>124.489998</td>\n",
       "      <td>14.3800</td>\n",
       "      <td>15.5600</td>\n",
       "      <td>1.193118</td>\n",
       "    </tr>\n",
       "    <tr>\n",
       "      <th>2289</th>\n",
       "      <td>5/16/2018</td>\n",
       "      <td>2725.780029</td>\n",
       "      <td>122.543800</td>\n",
       "      <td>14.4058</td>\n",
       "      <td>15.4542</td>\n",
       "      <td>1.182033</td>\n",
       "    </tr>\n",
       "  </tbody>\n",
       "</table>\n",
       "</div>"
      ],
      "text/plain": [
       "           Date          SPX         GLD      USO      SLV   EUR/USD\n",
       "2285   5/8/2018  2671.919922  124.589996  14.0600  15.5100  1.186789\n",
       "2286   5/9/2018  2697.790039  124.330002  14.3700  15.5300  1.184722\n",
       "2287  5/10/2018  2723.070068  125.180000  14.4100  15.7400  1.191753\n",
       "2288  5/14/2018  2730.129883  124.489998  14.3800  15.5600  1.193118\n",
       "2289  5/16/2018  2725.780029  122.543800  14.4058  15.4542  1.182033"
      ]
     },
     "execution_count": 4,
     "metadata": {},
     "output_type": "execute_result"
    }
   ],
   "source": [
    "# print last 5 rows of the dataframe\n",
    "gold_data.tail()"
   ]
  },
  {
   "cell_type": "code",
   "execution_count": 5,
   "metadata": {
    "colab": {
     "base_uri": "https://localhost:8080/"
    },
    "id": "vgnDjvpocdUp",
    "outputId": "13fb521f-29a7-401a-fac6-c3a12ff3668b"
   },
   "outputs": [
    {
     "data": {
      "text/plain": [
       "(2290, 6)"
      ]
     },
     "execution_count": 5,
     "metadata": {},
     "output_type": "execute_result"
    }
   ],
   "source": [
    "# number of rows and columns\n",
    "gold_data.shape"
   ]
  },
  {
   "cell_type": "code",
   "execution_count": 6,
   "metadata": {
    "colab": {
     "base_uri": "https://localhost:8080/"
    },
    "id": "9SEXC4AWcnDu",
    "outputId": "6c660677-2c14-4caa-afef-085e130f3e2d"
   },
   "outputs": [
    {
     "name": "stdout",
     "output_type": "stream",
     "text": [
      "<class 'pandas.core.frame.DataFrame'>\n",
      "RangeIndex: 2290 entries, 0 to 2289\n",
      "Data columns (total 6 columns):\n",
      " #   Column   Non-Null Count  Dtype  \n",
      "---  ------   --------------  -----  \n",
      " 0   Date     2290 non-null   object \n",
      " 1   SPX      2290 non-null   float64\n",
      " 2   GLD      2290 non-null   float64\n",
      " 3   USO      2290 non-null   float64\n",
      " 4   SLV      2290 non-null   float64\n",
      " 5   EUR/USD  2290 non-null   float64\n",
      "dtypes: float64(5), object(1)\n",
      "memory usage: 107.5+ KB\n"
     ]
    }
   ],
   "source": [
    "# getting some basic informations about the data\n",
    "gold_data.info()"
   ]
  },
  {
   "cell_type": "code",
   "execution_count": 7,
   "metadata": {
    "colab": {
     "base_uri": "https://localhost:8080/"
    },
    "id": "tjmFVXi2cv4Q",
    "outputId": "2fa51b37-0af3-4ce0-963a-f48fba8e0a84"
   },
   "outputs": [
    {
     "data": {
      "text/plain": [
       "Date       0\n",
       "SPX        0\n",
       "GLD        0\n",
       "USO        0\n",
       "SLV        0\n",
       "EUR/USD    0\n",
       "dtype: int64"
      ]
     },
     "execution_count": 7,
     "metadata": {},
     "output_type": "execute_result"
    }
   ],
   "source": [
    "# checking the number of missing values\n",
    "gold_data.isnull().sum()"
   ]
  },
  {
   "cell_type": "code",
   "execution_count": 8,
   "metadata": {
    "colab": {
     "base_uri": "https://localhost:8080/",
     "height": 288
    },
    "id": "9IcOnRfhc7zv",
    "outputId": "fc921d3f-e836-4042-ed2c-e77ad4216e47"
   },
   "outputs": [
    {
     "data": {
      "text/html": [
       "<div>\n",
       "<style scoped>\n",
       "    .dataframe tbody tr th:only-of-type {\n",
       "        vertical-align: middle;\n",
       "    }\n",
       "\n",
       "    .dataframe tbody tr th {\n",
       "        vertical-align: top;\n",
       "    }\n",
       "\n",
       "    .dataframe thead th {\n",
       "        text-align: right;\n",
       "    }\n",
       "</style>\n",
       "<table border=\"1\" class=\"dataframe\">\n",
       "  <thead>\n",
       "    <tr style=\"text-align: right;\">\n",
       "      <th></th>\n",
       "      <th>SPX</th>\n",
       "      <th>GLD</th>\n",
       "      <th>USO</th>\n",
       "      <th>SLV</th>\n",
       "      <th>EUR/USD</th>\n",
       "    </tr>\n",
       "  </thead>\n",
       "  <tbody>\n",
       "    <tr>\n",
       "      <th>count</th>\n",
       "      <td>2290.000000</td>\n",
       "      <td>2290.000000</td>\n",
       "      <td>2290.000000</td>\n",
       "      <td>2290.000000</td>\n",
       "      <td>2290.000000</td>\n",
       "    </tr>\n",
       "    <tr>\n",
       "      <th>mean</th>\n",
       "      <td>1654.315776</td>\n",
       "      <td>122.732875</td>\n",
       "      <td>31.842221</td>\n",
       "      <td>20.084997</td>\n",
       "      <td>1.283653</td>\n",
       "    </tr>\n",
       "    <tr>\n",
       "      <th>std</th>\n",
       "      <td>519.111540</td>\n",
       "      <td>23.283346</td>\n",
       "      <td>19.523517</td>\n",
       "      <td>7.092566</td>\n",
       "      <td>0.131547</td>\n",
       "    </tr>\n",
       "    <tr>\n",
       "      <th>min</th>\n",
       "      <td>676.530029</td>\n",
       "      <td>70.000000</td>\n",
       "      <td>7.960000</td>\n",
       "      <td>8.850000</td>\n",
       "      <td>1.039047</td>\n",
       "    </tr>\n",
       "    <tr>\n",
       "      <th>25%</th>\n",
       "      <td>1239.874969</td>\n",
       "      <td>109.725000</td>\n",
       "      <td>14.380000</td>\n",
       "      <td>15.570000</td>\n",
       "      <td>1.171313</td>\n",
       "    </tr>\n",
       "    <tr>\n",
       "      <th>50%</th>\n",
       "      <td>1551.434998</td>\n",
       "      <td>120.580002</td>\n",
       "      <td>33.869999</td>\n",
       "      <td>17.268500</td>\n",
       "      <td>1.303297</td>\n",
       "    </tr>\n",
       "    <tr>\n",
       "      <th>75%</th>\n",
       "      <td>2073.010070</td>\n",
       "      <td>132.840004</td>\n",
       "      <td>37.827501</td>\n",
       "      <td>22.882500</td>\n",
       "      <td>1.369971</td>\n",
       "    </tr>\n",
       "    <tr>\n",
       "      <th>max</th>\n",
       "      <td>2872.870117</td>\n",
       "      <td>184.589996</td>\n",
       "      <td>117.480003</td>\n",
       "      <td>47.259998</td>\n",
       "      <td>1.598798</td>\n",
       "    </tr>\n",
       "  </tbody>\n",
       "</table>\n",
       "</div>"
      ],
      "text/plain": [
       "               SPX          GLD          USO          SLV      EUR/USD\n",
       "count  2290.000000  2290.000000  2290.000000  2290.000000  2290.000000\n",
       "mean   1654.315776   122.732875    31.842221    20.084997     1.283653\n",
       "std     519.111540    23.283346    19.523517     7.092566     0.131547\n",
       "min     676.530029    70.000000     7.960000     8.850000     1.039047\n",
       "25%    1239.874969   109.725000    14.380000    15.570000     1.171313\n",
       "50%    1551.434998   120.580002    33.869999    17.268500     1.303297\n",
       "75%    2073.010070   132.840004    37.827501    22.882500     1.369971\n",
       "max    2872.870117   184.589996   117.480003    47.259998     1.598798"
      ]
     },
     "execution_count": 8,
     "metadata": {},
     "output_type": "execute_result"
    }
   ],
   "source": [
    "# getting the statistical measures of the data\n",
    "gold_data.describe()"
   ]
  },
  {
   "cell_type": "markdown",
   "metadata": {
    "id": "f9SUQ8hodW4b"
   },
   "source": [
    "Correlation:\n",
    "1. Positive Correlation\n",
    "2. Negative Correlation"
   ]
  },
  {
   "cell_type": "code",
   "execution_count": 9,
   "metadata": {
    "id": "C3xgji81dJUW"
   },
   "outputs": [],
   "source": [
    "correlation = gold_data.corr()"
   ]
  },
  {
   "cell_type": "code",
   "execution_count": 10,
   "metadata": {
    "colab": {
     "base_uri": "https://localhost:8080/",
     "height": 488
    },
    "id": "oOqb9j0Ad-Zx",
    "outputId": "629a76ce-d91f-459d-c07e-3ab88af34fcf"
   },
   "outputs": [
    {
     "data": {
      "text/plain": [
       "<AxesSubplot:>"
      ]
     },
     "execution_count": 10,
     "metadata": {},
     "output_type": "execute_result"
    },
    {
     "data": {
      "image/png": "[encoded data removed]",
      "text/plain": [
       "<Figure size 576x576 with 2 Axes>"
      ]
     },
     "metadata": {
      "needs_background": "light"
     },
     "output_type": "display_data"
    }
   ],
   "source": [
    "# constructing a heatmap to understand the correlatiom\n",
    "plt.figure(figsize = (8,8))\n",
    "sns.heatmap(correlation, cbar=True, square=True, fmt='.1f',annot=True, annot_kws={'size':8}, cmap='Blues')"
   ]
  },
  {
   "cell_type": "code",
   "execution_count": 11,
   "metadata": {
    "colab": {
     "base_uri": "https://localhost:8080/"
    },
    "id": "qtQ_icjRemI4",
    "outputId": "cec00681-c356-42e4-e4c6-557e6c2b8ccd"
   },
   "outputs": [
    {
     "name": "stdout",
     "output_type": "stream",
     "text": [
      "SPX        0.049345\n",
      "GLD        1.000000\n",
      "USO       -0.186360\n",
      "SLV        0.866632\n",
      "EUR/USD   -0.024375\n",
      "Name: GLD, dtype: float64\n"
     ]
    }
   ],
   "source": [
    "# correlation values of GLD\n",
    "print(correlation['GLD'])"
   ]
  },
  {
   "cell_type": "code",
   "execution_count": 12,
   "metadata": {
    "colab": {
     "base_uri": "https://localhost:8080/",
     "height": 357
    },
    "id": "TMr-xVEwfIKg",
    "outputId": "20e55a70-f442-4821-d6a2-3c3bc9e01226"
   },
   "outputs": [
    {
     "name": "stderr",
     "output_type": "stream",
     "text": [
      "C:\\Users\\prath\\anaconda3\\lib\\site-packages\\seaborn\\distributions.py:2619: FutureWarning: `distplot` is a deprecated function and will be removed in a future version. Please adapt your code to use either `displot` (a figure-level function with similar flexibility) or `histplot` (an axes-level function for histograms).\n",
      "  warnings.warn(msg, FutureWarning)\n"
     ]
    },
    {
     "data": {
      "text/plain": [
       "<AxesSubplot:xlabel='GLD', ylabel='Density'>"
      ]
     },
     "execution_count": 12,
     "metadata": {},
     "output_type": "execute_result"
    },
    {
     "data": {
      "image/png": "[encoded data removed]",
      "text/plain": [
       "<Figure size 432x288 with 1 Axes>"
      ]
     },
     "metadata": {
      "needs_background": "light"
     },
     "output_type": "display_data"
    }
   ],
   "source": [
    "# checking the distribution of the GLD Price\n",
    "sns.distplot(gold_data['GLD'],color='green')"
   ]
  },
  {
   "cell_type": "markdown",
   "metadata": {
    "id": "4bdwLbPEfqWI"
   },
   "source": [
    "Splitting the Features and Target"
   ]
  },
  {
   "cell_type": "code",
   "execution_count": 13,
   "metadata": {
    "id": "SJNxCR0vfWxe"
   },
   "outputs": [],
   "source": [
    "X = gold_data.drop(['Date','GLD'],axis=1)\n",
    "Y = gold_data['GLD']"
   ]
  },
  {
   "cell_type": "code",
   "execution_count": 14,
   "metadata": {
    "colab": {
     "base_uri": "https://localhost:8080/"
    },
    "id": "qW9UvLSNf8zH",
    "outputId": "c61137e6-7ab4-491f-c626-d4bda00c48ce"
   },
   "outputs": [
    {
     "name": "stdout",
     "output_type": "stream",
     "text": [
      "              SPX        USO      SLV   EUR/USD\n",
      "0     1447.160034  78.470001  15.1800  1.471692\n",
      "1     1447.160034  78.370003  15.2850  1.474491\n",
      "2     1411.630005  77.309998  15.1670  1.475492\n",
      "3     1416.180054  75.500000  15.0530  1.468299\n",
      "4     1390.189941  76.059998  15.5900  1.557099\n",
      "...           ...        ...      ...       ...\n",
      "2285  2671.919922  14.060000  15.5100  1.186789\n",
      "2286  2697.790039  14.370000  15.5300  1.184722\n",
      "2287  2723.070068  14.410000  15.7400  1.191753\n",
      "2288  2730.129883  14.380000  15.5600  1.193118\n",
      "2289  2725.780029  14.405800  15.4542  1.182033\n",
      "\n",
      "[2290 rows x 4 columns]\n"
     ]
    }
   ],
   "source": [
    "print(X)"
   ]
  },
  {
   "cell_type": "code",
   "execution_count": 15,
   "metadata": {
    "colab": {
     "base_uri": "https://localhost:8080/"
    },
    "id": "lKUe3C-qf9y8",
    "outputId": "cfcf051d-0ec2-4cd5-c504-ceb22b63b5c9"
   },
   "outputs": [
    {
     "name": "stdout",
     "output_type": "stream",
     "text": [
      "0        84.860001\n",
      "1        85.570000\n",
      "2        85.129997\n",
      "3        84.769997\n",
      "4        86.779999\n",
      "           ...    \n",
      "2285    124.589996\n",
      "2286    124.330002\n",
      "2287    125.180000\n",
      "2288    124.489998\n",
      "2289    122.543800\n",
      "Name: GLD, Length: 2290, dtype: float64\n"
     ]
    }
   ],
   "source": [
    "print(Y)"
   ]
  },
  {
   "cell_type": "markdown",
   "metadata": {
    "id": "nv8UohBVgE1Z"
   },
   "source": [
    "Splitting into Training data and Test Data"
   ]
  },
  {
   "cell_type": "code",
   "execution_count": 16,
   "metadata": {
    "id": "KkrUByFugBUn"
   },
   "outputs": [],
   "source": [
    "X_train, X_test, Y_train, Y_test = train_test_split(X, Y, test_size = 0.2, random_state=2)"
   ]
  },
  {
   "cell_type": "markdown",
   "metadata": {},
   "source": [
    " Model Training Linear Regression"
   ]
  },
  {
   "cell_type": "code",
   "execution_count": 17,
   "metadata": {},
   "outputs": [
    {
     "data": {
      "text/html": [
       "<style>#sk-container-id-1 {color: black;background-color: white;}#sk-container-id-1 pre{padding: 0;}#sk-container-id-1 div.sk-toggleable {background-color: white;}#sk-container-id-1 label.sk-toggleable__label {cursor: pointer;display: block;width: 100%;margin-bottom: 0;padding: 0.3em;box-sizing: border-box;text-align: center;}#sk-container-id-1 label.sk-toggleable__label-arrow:before {content: \"▸\";float: left;margin-right: 0.25em;color: #696969;}#sk-container-id-1 label.sk-toggleable__label-arrow:hover:before {color: black;}#sk-container-id-1 div.sk-estimator:hover label.sk-toggleable__label-arrow:before {color: black;}#sk-container-id-1 div.sk-toggleable__content {max-height: 0;max-width: 0;overflow: hidden;text-align: left;background-color: #f0f8ff;}#sk-container-id-1 div.sk-toggleable__content pre {margin: 0.2em;color: black;border-radius: 0.25em;background-color: #f0f8ff;}#sk-container-id-1 input.sk-toggleable__control:checked~div.sk-toggleable__content {max-height: 200px;max-width: 100%;overflow: auto;}#sk-container-id-1 input.sk-toggleable__control:checked~label.sk-toggleable__label-arrow:before {content: \"▾\";}#sk-container-id-1 div.sk-estimator input.sk-toggleable__control:checked~label.sk-toggleable__label {background-color: #d4ebff;}#sk-container-id-1 div.sk-label input.sk-toggleable__control:checked~label.sk-toggleable__label {background-color: #d4ebff;}#sk-container-id-1 input.sk-hidden--visually {border: 0;clip: rect(1px 1px 1px 1px);clip: rect(1px, 1px, 1px, 1px);height: 1px;margin: -1px;overflow: hidden;padding: 0;position: absolute;width: 1px;}#sk-container-id-1 div.sk-estimator {font-family: monospace;background-color: #f0f8ff;border: 1px dotted black;border-radius: 0.25em;box-sizing: border-box;margin-bottom: 0.5em;}#sk-container-id-1 div.sk-estimator:hover {background-color: #d4ebff;}#sk-container-id-1 div.sk-parallel-item::after {content: \"\";width: 100%;border-bottom: 1px solid gray;flex-grow: 1;}#sk-container-id-1 div.sk-label:hover label.sk-toggleable__label {background-color: #d4ebff;}#sk-container-id-1 div.sk-serial::before {content: \"\";position: absolute;border-left: 1px solid gray;box-sizing: border-box;top: 0;bottom: 0;left: 50%;z-index: 0;}#sk-container-id-1 div.sk-serial {display: flex;flex-direction: column;align-items: center;background-color: white;padding-right: 0.2em;padding-left: 0.2em;position: relative;}#sk-container-id-1 div.sk-item {position: relative;z-index: 1;}#sk-container-id-1 div.sk-parallel {display: flex;align-items: stretch;justify-content: center;background-color: white;position: relative;}#sk-container-id-1 div.sk-item::before, #sk-container-id-1 div.sk-parallel-item::before {content: \"\";position: absolute;border-left: 1px solid gray;box-sizing: border-box;top: 0;bottom: 0;left: 50%;z-index: -1;}#sk-container-id-1 div.sk-parallel-item {display: flex;flex-direction: column;z-index: 1;position: relative;background-color: white;}#sk-container-id-1 div.sk-parallel-item:first-child::after {align-self: flex-end;width: 50%;}#sk-container-id-1 div.sk-parallel-item:last-child::after {align-self: flex-start;width: 50%;}#sk-container-id-1 div.sk-parallel-item:only-child::after {width: 0;}#sk-container-id-1 div.sk-dashed-wrapped {border: 1px dashed gray;margin: 0 0.4em 0.5em 0.4em;box-sizing: border-box;padding-bottom: 0.4em;background-color: white;}#sk-container-id-1 div.sk-label label {font-family: monospace;font-weight: bold;display: inline-block;line-height: 1.2em;}#sk-container-id-1 div.sk-label-container {text-align: center;}#sk-container-id-1 div.sk-container {/* jupyter's `normalize.less` sets `[hidden] { display: none; }` but bootstrap.min.css set `[hidden] { display: none !important; }` so we also need the `!important` here to be able to override the default hidden behavior on the sphinx rendered scikit-learn.org. See: https://github.com/scikit-learn/scikit-learn/issues/21755 */display: inline-block !important;position: relative;}#sk-container-id-1 div.sk-text-repr-fallback {display: none;}</style><div id=\"sk-container-id-1\" class=\"sk-top-container\"><div class=\"sk-text-repr-fallback\"><pre>LinearRegression(n_jobs=10)</pre><b>In a Jupyter environment, please rerun this cell to show the HTML representation or trust the notebook. <br />On GitHub, the HTML representation is unable to render, please try loading this page with nbviewer.org.</b></div><div class=\"sk-container\" hidden><div class=\"sk-item\"><div class=\"sk-estimator sk-toggleable\"><input class=\"sk-toggleable__control sk-hidden--visually\" id=\"sk-estimator-id-1\" type=\"checkbox\" checked><label for=\"sk-estimator-id-1\" class=\"sk-toggleable__label sk-toggleable__label-arrow\">LinearRegression</label><div class=\"sk-toggleable__content\"><pre>LinearRegression(n_jobs=10)</pre></div></div></div></div></div>"
      ],
      "text/plain": [
       "LinearRegression(n_jobs=10)"
      ]
     },
     "execution_count": 17,
     "metadata": {},
     "output_type": "execute_result"
    }
   ],
   "source": [
    "from sklearn.linear_model import LinearRegression\n",
    "lr=LinearRegression(n_jobs=10)\n",
    "lr.fit(X_train,Y_train)"
   ]
  },
  {
   "cell_type": "code",
   "execution_count": 18,
   "metadata": {},
   "outputs": [
    {
     "data": {
      "text/plain": [
       "array([159.45290968,  81.50858067, 113.4868037 , 128.55153817,\n",
       "       126.20403783, 141.31818338, 165.49416492, 124.44197659,\n",
       "       113.95389904, 122.9965895 , 113.95492464, 174.89529849,\n",
       "       132.66890174, 159.24793304, 118.8791679 , 122.14315717,\n",
       "       150.37153054, 161.27175405, 152.2792036 , 162.19946709,\n",
       "       145.88372183, 118.07669395, 180.21729122, 178.13331554,\n",
       "       123.51701986,  98.82914322,  76.63486248, 119.38435511,\n",
       "       113.85027665, 159.25706609,  93.76037617, 120.05334649,\n",
       "        88.61086583, 114.28801659, 112.77954274, 144.19518102,\n",
       "       118.78252489, 115.87334354, 144.06409553, 113.81864246,\n",
       "       100.49676727,  89.42842238, 120.36720699, 110.47635305,\n",
       "       146.4894628 , 119.30321261, 110.99311348, 111.3386287 ,\n",
       "        96.48139076, 123.40842816,  79.51413425, 115.36111603,\n",
       "       121.78896764, 114.55367722, 120.9074622 , 117.10612464,\n",
       "       152.31198525, 182.7735091 , 196.73570503,  91.06670951,\n",
       "       101.92097594,  87.48443506,  94.33158785, 119.17357764,\n",
       "       121.8935122 , 125.85678089, 163.2699701 , 122.91100556,\n",
       "       113.55098736, 104.06905043, 155.16775229, 176.87972077,\n",
       "       125.62460858, 113.85896766, 119.69577146, 120.03159609,\n",
       "       117.85194226, 118.35897733, 113.72954121, 129.97412373,\n",
       "       121.74279861, 104.64163725, 117.17374823, 126.31757797,\n",
       "        94.63054496,  88.6429881 , 173.79414659, 123.3889615 ,\n",
       "       121.11367109, 106.85139516, 102.43120839,  75.64721451,\n",
       "       160.63204133, 116.53485791, 123.43284852, 128.90964962,\n",
       "       141.9754171 ,  94.90681665, 140.59107397, 150.88254462,\n",
       "       120.61400122, 126.18758167, 126.15751557, 117.79050312,\n",
       "       120.23630249,  96.07847005, 108.46289277, 160.74032164,\n",
       "       149.25506194, 116.90461024, 101.89683477,  78.55100685,\n",
       "       113.55252108, 121.86482779, 111.50766509, 119.97033408,\n",
       "       144.93538115, 150.48099293, 120.46444466, 148.63103233,\n",
       "       102.36169588, 113.04232004, 116.67313346, 114.17074491,\n",
       "       111.72097362, 149.60529086, 103.27069375, 162.8243783 ,\n",
       "       127.26240013, 159.3553434 , 122.69414947, 123.01751489,\n",
       "       121.65730575, 114.16407868, 119.73006341, 121.6690294 ,\n",
       "       110.41148326,  93.51351227, 120.88718035, 105.29371566,\n",
       "       105.74311748, 121.82956746, 123.37061551, 104.36058862,\n",
       "       124.41163091, 157.15019835,  90.2875932 , 111.75426942,\n",
       "       116.24341673, 129.71742482, 122.66204747,  86.86560029,\n",
       "       125.58104783, 149.1558729 ,  93.20088142, 113.41951717,\n",
       "       114.76473252, 174.20857764, 111.54818695, 112.26438102,\n",
       "       124.60042052, 149.13827841,  92.28668121,  96.62221445,\n",
       "       120.33971987, 181.05999744, 122.20840259, 116.75008011,\n",
       "        99.19024942, 119.31093226, 153.69884139, 117.41344481,\n",
       "       116.04572722,  88.49265654, 201.18121904, 112.70327442,\n",
       "        95.90817139, 110.27893385, 110.79239714, 124.15722345,\n",
       "        91.40940976,  99.25381492, 118.22481586, 111.46207587,\n",
       "       120.21558021, 123.73713755, 116.59830111, 149.21680142,\n",
       "       157.42793857, 121.43291003, 118.67130713, 145.28995075,\n",
       "       111.46213774, 173.82514998, 106.34128071, 112.64167754,\n",
       "       202.03133513, 121.34066544, 123.19875899, 162.56606178,\n",
       "       111.96236108, 116.9192883 , 110.19610625, 111.5230842 ,\n",
       "       143.44486659, 113.74396159, 111.96962888, 116.62448493,\n",
       "       100.72432155, 105.04545753, 119.94849788,  96.83170431,\n",
       "        95.42249477, 143.72420099, 111.70859517, 145.44386748,\n",
       "       112.09462627, 159.67384334,  90.69074117, 113.87973255,\n",
       "       117.10614529, 120.83182786, 116.0398794 , 156.17508598,\n",
       "       100.41143402, 138.51120883, 122.80981088, 121.73144105,\n",
       "       111.22063915, 145.12280834, 119.62835114, 118.93736976,\n",
       "       121.12559311, 123.49477293, 119.45384482, 121.68552767,\n",
       "       122.79803947,  89.85590671, 127.5285141 , 143.49374375,\n",
       "        89.13511679, 163.81560356, 150.56348474, 125.36238887,\n",
       "       157.29133434, 118.5962307 , 114.76924715, 110.41074389,\n",
       "        99.27940825, 129.19134616, 104.91019759, 164.50553141,\n",
       "       124.27951869, 127.94576049, 126.33265293, 152.92260953,\n",
       "        91.02635368, 180.12688271, 121.33206179, 123.3805987 ,\n",
       "        92.93820488, 118.91049021, 167.74751536,  95.97626635,\n",
       "       112.07153519, 105.48610035,  82.39309463, 129.36811507,\n",
       "       147.6260147 , 145.12559953,  81.06850359, 145.72494054,\n",
       "       125.0873386 , 123.29241873, 121.55626896, 106.21901712,\n",
       "       144.37736667, 117.65217212, 123.67398912, 119.81906032,\n",
       "       146.09219012, 121.31201565, 143.70780585,  96.75332067,\n",
       "       121.04949103, 118.85801666,  95.85724353,  95.7005734 ,\n",
       "       122.83735573, 120.23931521, 114.752374  , 111.3848162 ,\n",
       "       122.11769927, 123.70751131, 118.59965555, 144.90842651,\n",
       "        99.26420076, 122.09583773, 109.34073179,  97.6923005 ,\n",
       "       103.82858753,  82.17668901, 108.48564656,  94.58386165,\n",
       "        99.36237847, 127.92063336, 154.53006174,  94.83214737,\n",
       "       120.56119213, 125.27193692, 123.741244  , 123.153979  ,\n",
       "       110.65471319,  93.77130654, 144.04886361, 118.70953745,\n",
       "       111.64287284, 159.07092617, 116.22058371,  89.59449933,\n",
       "       125.3954476 ,  93.77796895, 155.10683142, 119.70840177,\n",
       "       120.89033884, 150.21060248, 112.07266487, 112.17031901,\n",
       "       103.40785949, 121.88973962,  79.39417285, 111.32332444,\n",
       "       129.57981579, 121.20050645,  97.51862149, 138.03369157,\n",
       "       117.14618729, 120.79220009, 147.4118315 , 149.15097787,\n",
       "       115.34630618, 156.03123936, 125.80296997, 150.0364708 ,\n",
       "       125.49592695, 152.08236215, 113.66641537, 120.94533895,\n",
       "       160.95425308, 116.80893399, 125.33117629, 157.17971833,\n",
       "       120.4838592 , 125.66320966, 147.16276169, 141.23191504,\n",
       "       127.86839214, 116.49844827, 113.86003172, 125.56616732,\n",
       "        93.7151239 , 119.91858182, 143.5779658 , 110.49294691,\n",
       "       111.56151552, 153.32389533, 117.5161175 , 159.14273208,\n",
       "       130.61792167, 120.47996196, 140.69432122, 162.0360364 ,\n",
       "       113.23249654, 115.78985464, 153.13016467,  87.59723109,\n",
       "       120.75954152, 129.37236482, 125.08256637, 124.47800179,\n",
       "       122.52210381,  94.36181387, 142.56208797, 104.65794024,\n",
       "       145.68266189,  93.1734386 , 104.70960227, 116.54046577,\n",
       "       120.5260613 , 120.44862385,  94.68963425, 120.59695494,\n",
       "       154.15009906, 117.18925871, 156.49657478, 123.86401547,\n",
       "       110.41664959, 124.85086427, 100.6794172 ,  94.36971456,\n",
       "       105.71510695, 122.36927215,  79.9786057 , 126.70980467,\n",
       "       152.88190713, 114.88722911, 114.97966394, 119.08904866,\n",
       "       116.79453493, 122.84487067, 120.91030351, 120.88673239,\n",
       "       105.0696433 , 191.90883411, 122.59664436, 116.62755088,\n",
       "        77.84989594, 124.65745662, 143.2709885 , 120.37043229,\n",
       "       121.03655506,  94.50745135, 111.36682253, 119.75471172,\n",
       "       112.48632277,  79.13563026, 142.62965128, 121.89588529,\n",
       "       113.07538385,  88.3918062 , 114.03342237, 163.40511021,\n",
       "       125.20580519, 152.11443433, 113.25319918, 118.62431992,\n",
       "       117.28641957, 104.68078767, 118.41921617, 126.05035311,\n",
       "       120.41292474, 100.69533386, 143.8328044 , 121.01265419,\n",
       "       160.52275467, 149.57414181, 108.42224119, 120.97109044,\n",
       "       158.885207  , 118.21457812, 158.11607219, 143.83779103,\n",
       "       120.47800019, 159.86639242, 111.24045013, 126.4542079 ,\n",
       "       144.93505484, 106.94838427])"
      ]
     },
     "execution_count": 18,
     "metadata": {},
     "output_type": "execute_result"
    }
   ],
   "source": [
    "lr_predict=lr.predict(X_test)\n",
    "lr_predict"
   ]
  },
  {
   "cell_type": "code",
   "execution_count": 19,
   "metadata": {},
   "outputs": [
    {
     "name": "stdout",
     "output_type": "stream",
     "text": [
      "Coefficents : [ 6.82770004e-03 -2.56764053e-01  3.17723486e+00 -8.99975261e+00]\n",
      "Feature Names: ['SPX' 'USO' 'SLV' 'EUR/USD']\n",
      "Intercept: 67.45629268976191\n"
     ]
    }
   ],
   "source": [
    "print(\"Coefficents :\",lr.coef_)\n",
    "print(\"Feature Names:\",lr.feature_names_in_)\n",
    "print(\"Intercept:\",lr.intercept_)"
   ]
  },
  {
   "cell_type": "code",
   "execution_count": 20,
   "metadata": {},
   "outputs": [
    {
     "name": "stdout",
     "output_type": "stream",
     "text": [
      "R squared error :  0.8657886565869237\n"
     ]
    }
   ],
   "source": [
    "error_score1 = metrics.r2_score(Y_test,lr_predict)\n",
    "print(\"R squared error : \", error_score1)"
   ]
  },
  {
   "cell_type": "markdown",
   "metadata": {
    "id": "1vrCHktWgqfi"
   },
   "source": [
    "Model Training:\n",
    "Random Forest Regressor"
   ]
  },
  {
   "cell_type": "code",
   "execution_count": 21,
   "metadata": {
    "id": "N17qRKKGgoaZ"
   },
   "outputs": [],
   "source": [
    "rf = RandomForestRegressor(n_estimators=100)"
   ]
  },
  {
   "cell_type": "code",
   "execution_count": 22,
   "metadata": {
    "colab": {
     "base_uri": "https://localhost:8080/"
    },
    "id": "DP2he4-PhMso",
    "outputId": "62c30f51-7e7c-425e-b7f2-47e38bf38513"
   },
   "outputs": [
    {
     "data": {
      "text/html": [
       "<style>#sk-container-id-2 {color: black;background-color: white;}#sk-container-id-2 pre{padding: 0;}#sk-container-id-2 div.sk-toggleable {background-color: white;}#sk-container-id-2 label.sk-toggleable__label {cursor: pointer;display: block;width: 100%;margin-bottom: 0;padding: 0.3em;box-sizing: border-box;text-align: center;}#sk-container-id-2 label.sk-toggleable__label-arrow:before {content: \"▸\";float: left;margin-right: 0.25em;color: #696969;}#sk-container-id-2 label.sk-toggleable__label-arrow:hover:before {color: black;}#sk-container-id-2 div.sk-estimator:hover label.sk-toggleable__label-arrow:before {color: black;}#sk-container-id-2 div.sk-toggleable__content {max-height: 0;max-width: 0;overflow: hidden;text-align: left;background-color: #f0f8ff;}#sk-container-id-2 div.sk-toggleable__content pre {margin: 0.2em;color: black;border-radius: 0.25em;background-color: #f0f8ff;}#sk-container-id-2 input.sk-toggleable__control:checked~div.sk-toggleable__content {max-height: 200px;max-width: 100%;overflow: auto;}#sk-container-id-2 input.sk-toggleable__control:checked~label.sk-toggleable__label-arrow:before {content: \"▾\";}#sk-container-id-2 div.sk-estimator input.sk-toggleable__control:checked~label.sk-toggleable__label {background-color: #d4ebff;}#sk-container-id-2 div.sk-label input.sk-toggleable__control:checked~label.sk-toggleable__label {background-color: #d4ebff;}#sk-container-id-2 input.sk-hidden--visually {border: 0;clip: rect(1px 1px 1px 1px);clip: rect(1px, 1px, 1px, 1px);height: 1px;margin: -1px;overflow: hidden;padding: 0;position: absolute;width: 1px;}#sk-container-id-2 div.sk-estimator {font-family: monospace;background-color: #f0f8ff;border: 1px dotted black;border-radius: 0.25em;box-sizing: border-box;margin-bottom: 0.5em;}#sk-container-id-2 div.sk-estimator:hover {background-color: #d4ebff;}#sk-container-id-2 div.sk-parallel-item::after {content: \"\";width: 100%;border-bottom: 1px solid gray;flex-grow: 1;}#sk-container-id-2 div.sk-label:hover label.sk-toggleable__label {background-color: #d4ebff;}#sk-container-id-2 div.sk-serial::before {content: \"\";position: absolute;border-left: 1px solid gray;box-sizing: border-box;top: 0;bottom: 0;left: 50%;z-index: 0;}#sk-container-id-2 div.sk-serial {display: flex;flex-direction: column;align-items: center;background-color: white;padding-right: 0.2em;padding-left: 0.2em;position: relative;}#sk-container-id-2 div.sk-item {position: relative;z-index: 1;}#sk-container-id-2 div.sk-parallel {display: flex;align-items: stretch;justify-content: center;background-color: white;position: relative;}#sk-container-id-2 div.sk-item::before, #sk-container-id-2 div.sk-parallel-item::before {content: \"\";position: absolute;border-left: 1px solid gray;box-sizing: border-box;top: 0;bottom: 0;left: 50%;z-index: -1;}#sk-container-id-2 div.sk-parallel-item {display: flex;flex-direction: column;z-index: 1;position: relative;background-color: white;}#sk-container-id-2 div.sk-parallel-item:first-child::after {align-self: flex-end;width: 50%;}#sk-container-id-2 div.sk-parallel-item:last-child::after {align-self: flex-start;width: 50%;}#sk-container-id-2 div.sk-parallel-item:only-child::after {width: 0;}#sk-container-id-2 div.sk-dashed-wrapped {border: 1px dashed gray;margin: 0 0.4em 0.5em 0.4em;box-sizing: border-box;padding-bottom: 0.4em;background-color: white;}#sk-container-id-2 div.sk-label label {font-family: monospace;font-weight: bold;display: inline-block;line-height: 1.2em;}#sk-container-id-2 div.sk-label-container {text-align: center;}#sk-container-id-2 div.sk-container {/* jupyter's `normalize.less` sets `[hidden] { display: none; }` but bootstrap.min.css set `[hidden] { display: none !important; }` so we also need the `!important` here to be able to override the default hidden behavior on the sphinx rendered scikit-learn.org. See: https://github.com/scikit-learn/scikit-learn/issues/21755 */display: inline-block !important;position: relative;}#sk-container-id-2 div.sk-text-repr-fallback {display: none;}</style><div id=\"sk-container-id-2\" class=\"sk-top-container\"><div class=\"sk-text-repr-fallback\"><pre>RandomForestRegressor()</pre><b>In a Jupyter environment, please rerun this cell to show the HTML representation or trust the notebook. <br />On GitHub, the HTML representation is unable to render, please try loading this page with nbviewer.org.</b></div><div class=\"sk-container\" hidden><div class=\"sk-item\"><div class=\"sk-estimator sk-toggleable\"><input class=\"sk-toggleable__control sk-hidden--visually\" id=\"sk-estimator-id-2\" type=\"checkbox\" checked><label for=\"sk-estimator-id-2\" class=\"sk-toggleable__label sk-toggleable__label-arrow\">RandomForestRegressor</label><div class=\"sk-toggleable__content\"><pre>RandomForestRegressor()</pre></div></div></div></div></div>"
      ],
      "text/plain": [
       "RandomForestRegressor()"
      ]
     },
     "execution_count": 22,
     "metadata": {},
     "output_type": "execute_result"
    }
   ],
   "source": [
    "# training the model\n",
    "rf.fit(X_train,Y_train)"
   ]
  },
  {
   "cell_type": "markdown",
   "metadata": {
    "id": "SHNFVsr4hbG2"
   },
   "source": [
    "Model Evaluation"
   ]
  },
  {
   "cell_type": "code",
   "execution_count": 23,
   "metadata": {
    "id": "uOLpKKD_hXSl"
   },
   "outputs": [
    {
     "data": {
      "text/plain": [
       "array([168.30939956,  81.96269986, 116.34790062, 127.43150103,\n",
       "       120.75080117, 154.75209712, 150.27119837, 126.19250053,\n",
       "       117.45189872, 126.01490124, 116.80670093, 171.04350064,\n",
       "       142.42879947, 167.78989805, 115.23230038, 117.81640027,\n",
       "       138.93380295, 170.21580128, 159.32520261, 158.80819952,\n",
       "       155.04380027, 125.24000027, 175.97519953, 156.99230303,\n",
       "       125.34960016,  93.77649952,  77.48800014, 120.39900017,\n",
       "       119.08589957, 167.51649987,  88.15290073, 125.30960003,\n",
       "        91.04690066, 117.90520033, 121.14279944, 136.15270103,\n",
       "       115.51520119, 115.4499005 , 146.92119981, 106.95390098,\n",
       "       104.1881026 ,  87.17189801, 126.49170065, 118.06789971,\n",
       "       153.01159852, 119.41970017, 108.41899987, 108.21889815,\n",
       "        93.16010054, 127.15469783,  75.11950046, 113.67939918,\n",
       "       121.41810039, 111.33969891, 118.74579891, 120.49569891,\n",
       "       159.9423995 , 168.72840136, 146.8061964 ,  85.64279849,\n",
       "        94.14150047,  86.73139823,  90.35540009, 119.21000069,\n",
       "       126.3791007 , 127.58560012, 168.99089991, 122.30609901,\n",
       "       117.27999871,  98.74840019, 167.98910129, 142.96869804,\n",
       "       132.26340283, 121.2216024 , 121.09849945, 119.72170068,\n",
       "       114.62340147, 118.40920049, 107.17440081, 127.84940101,\n",
       "       114.05889986, 107.9638998 , 117.20160027, 119.60549893,\n",
       "        88.96840033,  88.31299899, 146.59740173, 127.12530045,\n",
       "       113.11000047, 109.67909856, 108.21329908,  77.658499  ,\n",
       "       170.04400192, 113.98839904, 121.61499883, 128.13710192,\n",
       "       154.94119794,  91.71779979, 136.20870141, 158.78290297,\n",
       "       125.21300075, 125.16530067, 130.66380203, 115.11750114,\n",
       "       119.91770041,  92.17639981, 109.97879906, 166.09009916,\n",
       "       158.20379882, 114.22749953, 106.62590141,  80.07089949,\n",
       "       113.27490059, 125.76750103, 106.88869936, 119.47830118,\n",
       "       156.32350312, 159.86459946, 120.25819994, 134.53860331,\n",
       "       101.54139971, 117.45199807, 119.30250036, 113.01980081,\n",
       "       102.76649915, 160.21359756,  98.7763006 , 146.89119922,\n",
       "       125.31440081, 169.07819948, 126.09019834, 127.40259732,\n",
       "       127.68440186, 113.80199952, 112.83530086, 123.70929906,\n",
       "       102.23379909,  88.75629987, 124.64239992, 101.5287993 ,\n",
       "       107.01039916, 113.4675005 , 117.3976006 ,  99.11909992,\n",
       "       121.72640063, 163.50849921,  87.29919848, 106.75029962,\n",
       "       117.04300088, 127.67110147, 124.2128009 ,  80.56519939,\n",
       "       120.08770068, 158.4696982 ,  87.95509968, 110.26509958,\n",
       "       118.9339992 , 172.04759867, 103.05469886, 105.42830051,\n",
       "       122.69340047, 158.77409789,  87.56489834,  93.17900049,\n",
       "       112.79060061, 177.4069994 , 114.44099985, 119.35510024,\n",
       "        94.71670091, 125.46270004, 166.00640165, 114.91640066,\n",
       "       116.54750105,  88.36369886, 148.72520064, 120.42209951,\n",
       "        89.56600001, 112.35919953, 117.26550011, 118.72560104,\n",
       "        88.09629921,  94.15139994, 116.8733    , 118.3520017 ,\n",
       "       120.30520047, 126.84539817, 121.89920004, 149.14180018,\n",
       "       166.0527002 , 118.59849959, 120.22430169, 151.63450066,\n",
       "       118.38499952, 172.21379909, 105.53229923, 104.98380122,\n",
       "       149.30090104, 113.61020052, 125.02310101, 147.60799945,\n",
       "       119.38470102, 115.40460096, 112.69469951, 113.51410185,\n",
       "       142.44430155, 117.78289778, 102.91930022, 115.92810103,\n",
       "       103.45640169,  98.50460029, 117.53630072,  90.58320027,\n",
       "        91.51040007, 153.47549843, 102.72039981, 155.09750099,\n",
       "       114.32160135, 138.34830097,  90.30519864, 115.50859934,\n",
       "       114.79019949, 123.02160006, 121.64260027, 165.15890103,\n",
       "        92.88979954, 135.44760165, 121.35319954, 120.74300098,\n",
       "       104.59090037, 143.92030251, 121.59109917, 116.62620048,\n",
       "       113.55750081, 127.15699752, 122.37029968, 125.81619916,\n",
       "       121.21640055,  86.91029919, 132.47740256, 143.94730143,\n",
       "        92.66989967, 159.34519923, 158.92810221, 126.23999904,\n",
       "       165.30849947, 108.88909961, 109.73480081, 103.60689849,\n",
       "        94.1334006 , 128.06540314, 106.95220053, 162.47610023,\n",
       "       121.76290061, 132.1600004 , 130.74190245, 160.43459939,\n",
       "        90.2827987 , 176.02830114, 127.68710034, 126.90709857,\n",
       "        86.3824992 , 124.57569962, 150.51889717,  89.75920023,\n",
       "       106.83739932, 108.91819981,  84.22049874, 135.6863999 ,\n",
       "       154.67050261, 138.89250322,  73.50210073, 152.75430065,\n",
       "       126.18249963, 126.76990006, 127.59449899, 108.51619928,\n",
       "       156.31170021, 114.62510115, 117.01180123, 125.80290014,\n",
       "       154.09530191, 121.46869985, 156.38889897,  93.00180039,\n",
       "       125.44860088, 125.67770032,  87.76700051,  92.14499902,\n",
       "       126.35529975, 128.39530354, 113.07370037, 117.81679724,\n",
       "       120.71300035, 127.30509776, 119.64510098, 136.72790056,\n",
       "        94.03909945, 119.94250047, 112.98800122,  94.38159965,\n",
       "       108.7904003 ,  87.02789911, 109.11819904,  89.64239949,\n",
       "        92.39970035, 131.68920317, 162.4035    ,  89.38080004,\n",
       "       119.71720084, 133.30460193, 124.02490009, 128.54240208,\n",
       "       101.96689836,  89.07669891, 131.6731007 , 119.9503001 ,\n",
       "       108.4227003 , 168.274901  , 115.19999999,  86.60839916,\n",
       "       118.83230075,  91.01179951, 162.10760077, 116.37630031,\n",
       "       121.66609996, 160.49879813, 120.18419934, 112.94649927,\n",
       "       108.40419874, 126.84840005,  76.11960044, 103.01219989,\n",
       "       127.78600284, 121.97199925,  92.55620025, 132.62820059,\n",
       "       117.98680074, 115.85749959, 154.18850322, 159.27950105,\n",
       "       109.91939945, 155.48379891, 119.30020117, 160.3553009 ,\n",
       "       118.46010056, 157.86299948, 115.1904994 , 116.53430019,\n",
       "       149.00619889, 114.87520035, 125.96359846, 165.95769957,\n",
       "       117.66750001, 125.09269915, 153.31510362, 153.57880214,\n",
       "       132.14960076, 114.96650028, 121.28110205, 124.91740066,\n",
       "        89.70020089, 123.46999991, 154.81390135, 111.76590031,\n",
       "       106.55939966, 161.62310111, 118.44209991, 165.72320004,\n",
       "       133.9770008 , 115.1201997 , 152.96199871, 168.59540039,\n",
       "       114.95590018, 113.95420133, 158.35249893,  85.15089919,\n",
       "       127.13570046, 127.91760071, 128.9136995 , 124.43600053,\n",
       "       124.04900069,  90.67850105, 152.98410045,  97.12879979,\n",
       "       137.36529956,  89.06419911, 107.96049992, 115.21400061,\n",
       "       112.786301  , 124.39619901,  91.37999889, 125.39780084,\n",
       "       162.37409926, 119.81819893, 164.90190167, 126.90659803,\n",
       "       112.41670021, 127.60059949,  94.98159917,  90.87189983,\n",
       "       103.52609904, 120.68270008,  83.16669943, 126.27750019,\n",
       "       159.93940473, 117.26910095, 118.36159994, 119.93810006,\n",
       "       122.68999941, 120.11150123, 121.89509985, 118.18550035,\n",
       "       107.08459992, 148.08579918, 126.36919814, 115.78360085,\n",
       "        73.90770004, 127.83700113, 154.453601  , 122.17220025,\n",
       "       125.58430092,  88.97270002, 103.11879876, 124.42790037,\n",
       "       120.21150033,  73.41450054, 151.85380098, 121.47400062,\n",
       "       104.62860026,  86.55429794, 115.09629916, 172.14699798,\n",
       "       119.52070039, 159.55569839, 113.26789983, 121.22260057,\n",
       "       118.55630086,  95.94459983, 118.61700041, 125.99300012,\n",
       "       118.56639929,  96.08640075, 153.95260184, 121.88360011,\n",
       "       147.74999978, 159.05080209, 113.59430036, 122.52649951,\n",
       "       150.15179828, 127.41080026, 165.71430103, 134.9736003 ,\n",
       "       120.17469979, 167.36829812, 108.49999911, 121.69199841,\n",
       "       138.97980152, 106.83869902])"
      ]
     },
     "execution_count": 23,
     "metadata": {},
     "output_type": "execute_result"
    }
   ],
   "source": [
    "# prediction on Test Data\n",
    "rf_predict= rf.predict(X_test)\n",
    "rf_predict"
   ]
  },
  {
   "cell_type": "code",
   "execution_count": 24,
   "metadata": {},
   "outputs": [
    {
     "name": "stdout",
     "output_type": "stream",
     "text": [
      "Coefficents : [ 6.82770004e-03 -2.56764053e-01  3.17723486e+00 -8.99975261e+00]\n",
      "Feature Names: ['SPX' 'USO' 'SLV' 'EUR/USD']\n",
      "Intercept: 67.45629268976191\n"
     ]
    }
   ],
   "source": [
    "print(\"Coefficents :\",lr.coef_)\n",
    "print(\"Feature Names:\",lr.feature_names_in_)\n",
    "print(\"Intercept:\",lr.intercept_)"
   ]
  },
  {
   "cell_type": "code",
   "execution_count": 25,
   "metadata": {
    "colab": {
     "base_uri": "https://localhost:8080/"
    },
    "id": "fu7A1hhMhqa9",
    "outputId": "3609de12-2ab2-46fd-c137-7e3777ddd8be"
   },
   "outputs": [
    {
     "name": "stdout",
     "output_type": "stream",
     "text": [
      "R squared error :  0.988936265176725\n"
     ]
    }
   ],
   "source": [
    "# R squared error\n",
    "error_score2= metrics.r2_score(Y_test, rf_predict)\n",
    "print(\"R squared error : \", error_score2)"
   ]
  },
  {
   "cell_type": "markdown",
   "metadata": {},
   "source": [
    "Desicion Tree"
   ]
  },
  {
   "cell_type": "code",
   "execution_count": 26,
   "metadata": {},
   "outputs": [
    {
     "data": {
      "text/html": [
       "<style>#sk-container-id-3 {color: black;background-color: white;}#sk-container-id-3 pre{padding: 0;}#sk-container-id-3 div.sk-toggleable {background-color: white;}#sk-container-id-3 label.sk-toggleable__label {cursor: pointer;display: block;width: 100%;margin-bottom: 0;padding: 0.3em;box-sizing: border-box;text-align: center;}#sk-container-id-3 label.sk-toggleable__label-arrow:before {content: \"▸\";float: left;margin-right: 0.25em;color: #696969;}#sk-container-id-3 label.sk-toggleable__label-arrow:hover:before {color: black;}#sk-container-id-3 div.sk-estimator:hover label.sk-toggleable__label-arrow:before {color: black;}#sk-container-id-3 div.sk-toggleable__content {max-height: 0;max-width: 0;overflow: hidden;text-align: left;background-color: #f0f8ff;}#sk-container-id-3 div.sk-toggleable__content pre {margin: 0.2em;color: black;border-radius: 0.25em;background-color: #f0f8ff;}#sk-container-id-3 input.sk-toggleable__control:checked~div.sk-toggleable__content {max-height: 200px;max-width: 100%;overflow: auto;}#sk-container-id-3 input.sk-toggleable__control:checked~label.sk-toggleable__label-arrow:before {content: \"▾\";}#sk-container-id-3 div.sk-estimator input.sk-toggleable__control:checked~label.sk-toggleable__label {background-color: #d4ebff;}#sk-container-id-3 div.sk-label input.sk-toggleable__control:checked~label.sk-toggleable__label {background-color: #d4ebff;}#sk-container-id-3 input.sk-hidden--visually {border: 0;clip: rect(1px 1px 1px 1px);clip: rect(1px, 1px, 1px, 1px);height: 1px;margin: -1px;overflow: hidden;padding: 0;position: absolute;width: 1px;}#sk-container-id-3 div.sk-estimator {font-family: monospace;background-color: #f0f8ff;border: 1px dotted black;border-radius: 0.25em;box-sizing: border-box;margin-bottom: 0.5em;}#sk-container-id-3 div.sk-estimator:hover {background-color: #d4ebff;}#sk-container-id-3 div.sk-parallel-item::after {content: \"\";width: 100%;border-bottom: 1px solid gray;flex-grow: 1;}#sk-container-id-3 div.sk-label:hover label.sk-toggleable__label {background-color: #d4ebff;}#sk-container-id-3 div.sk-serial::before {content: \"\";position: absolute;border-left: 1px solid gray;box-sizing: border-box;top: 0;bottom: 0;left: 50%;z-index: 0;}#sk-container-id-3 div.sk-serial {display: flex;flex-direction: column;align-items: center;background-color: white;padding-right: 0.2em;padding-left: 0.2em;position: relative;}#sk-container-id-3 div.sk-item {position: relative;z-index: 1;}#sk-container-id-3 div.sk-parallel {display: flex;align-items: stretch;justify-content: center;background-color: white;position: relative;}#sk-container-id-3 div.sk-item::before, #sk-container-id-3 div.sk-parallel-item::before {content: \"\";position: absolute;border-left: 1px solid gray;box-sizing: border-box;top: 0;bottom: 0;left: 50%;z-index: -1;}#sk-container-id-3 div.sk-parallel-item {display: flex;flex-direction: column;z-index: 1;position: relative;background-color: white;}#sk-container-id-3 div.sk-parallel-item:first-child::after {align-self: flex-end;width: 50%;}#sk-container-id-3 div.sk-parallel-item:last-child::after {align-self: flex-start;width: 50%;}#sk-container-id-3 div.sk-parallel-item:only-child::after {width: 0;}#sk-container-id-3 div.sk-dashed-wrapped {border: 1px dashed gray;margin: 0 0.4em 0.5em 0.4em;box-sizing: border-box;padding-bottom: 0.4em;background-color: white;}#sk-container-id-3 div.sk-label label {font-family: monospace;font-weight: bold;display: inline-block;line-height: 1.2em;}#sk-container-id-3 div.sk-label-container {text-align: center;}#sk-container-id-3 div.sk-container {/* jupyter's `normalize.less` sets `[hidden] { display: none; }` but bootstrap.min.css set `[hidden] { display: none !important; }` so we also need the `!important` here to be able to override the default hidden behavior on the sphinx rendered scikit-learn.org. See: https://github.com/scikit-learn/scikit-learn/issues/21755 */display: inline-block !important;position: relative;}#sk-container-id-3 div.sk-text-repr-fallback {display: none;}</style><div id=\"sk-container-id-3\" class=\"sk-top-container\"><div class=\"sk-text-repr-fallback\"><pre>DecisionTreeRegressor()</pre><b>In a Jupyter environment, please rerun this cell to show the HTML representation or trust the notebook. <br />On GitHub, the HTML representation is unable to render, please try loading this page with nbviewer.org.</b></div><div class=\"sk-container\" hidden><div class=\"sk-item\"><div class=\"sk-estimator sk-toggleable\"><input class=\"sk-toggleable__control sk-hidden--visually\" id=\"sk-estimator-id-3\" type=\"checkbox\" checked><label for=\"sk-estimator-id-3\" class=\"sk-toggleable__label sk-toggleable__label-arrow\">DecisionTreeRegressor</label><div class=\"sk-toggleable__content\"><pre>DecisionTreeRegressor()</pre></div></div></div></div></div>"
      ],
      "text/plain": [
       "DecisionTreeRegressor()"
      ]
     },
     "execution_count": 26,
     "metadata": {},
     "output_type": "execute_result"
    }
   ],
   "source": [
    "from sklearn.tree import DecisionTreeRegressor\n",
    "dt=DecisionTreeRegressor()\n",
    "dt.fit(X_train,Y_train)"
   ]
  },
  {
   "cell_type": "code",
   "execution_count": 27,
   "metadata": {},
   "outputs": [
    {
     "data": {
      "text/plain": [
       "array([168.970001,  81.360001, 114.769997, 127.779999, 121.730003,\n",
       "       155.669998, 148.220001, 126.559998, 117.389999, 125.620003,\n",
       "       117.410004, 174.580002, 141.919998, 167.179993, 115.849998,\n",
       "       116.5     , 134.100006, 168.970001, 159.570007, 132.850006,\n",
       "       155.360001, 125.699997, 177.210007, 157.339996, 125.459999,\n",
       "        93.720001,  73.080002, 122.290001, 118.519997, 167.820007,\n",
       "        88.330002, 124.790001,  91.330002, 118.639999, 121.449997,\n",
       "       135.410004, 114.57    , 115.800003, 134.119995, 105.720001,\n",
       "       104.370003,  87.239998, 127.610001, 118.360001, 157.779999,\n",
       "       119.959999, 108.419998, 107.790001,  93.459999, 128.539993,\n",
       "        72.510002, 113.260002, 120.110001, 110.809998, 118.519997,\n",
       "       121.129997, 161.320007, 161.520004, 146.869995,  85.199997,\n",
       "        93.800003,  86.879997,  91.980003, 119.800003, 126.139999,\n",
       "       127.400002, 172.229996, 122.669998, 116.209999,  97.699997,\n",
       "       169.820007, 142.509995, 132.490005, 120.910004, 122.879997,\n",
       "       119.190002, 113.910004, 118.82    , 106.260002, 127.660004,\n",
       "       114.209999, 108.470001, 115.57    , 119.699997,  89.910004,\n",
       "        87.989998, 142.380005, 127.150002, 114.209999, 110.239998,\n",
       "       107.889999,  76.489998, 173.020004, 113.639999, 121.209999,\n",
       "       128.5     , 155.139999,  91.769997, 134.410004, 161.320007,\n",
       "       124.360001, 126.18    , 130.369995, 113.910004, 120.980003,\n",
       "        92.059998, 111.459999, 172.229996, 159.050003, 113.639999,\n",
       "       107.040001,  80.650002, 113.669998, 125.540001, 108.089996,\n",
       "       118.82    , 157.320007, 159.429993, 120.139999, 133.139999,\n",
       "       102.529999, 116.029999, 118.959999, 111.860001, 102.669998,\n",
       "       160.559998,  97.43    , 139.360001, 125.290001, 171.509995,\n",
       "       123.730003, 128.539993, 128.380005, 115.32    , 111.75    ,\n",
       "       124.32    , 101.790001,  91.309998, 125.959999, 101.860001,\n",
       "       107.040001, 115.849998, 116.5     ,  97.699997, 121.650002,\n",
       "       165.279999,  86.879997, 107.730003, 118.559998, 127.660004,\n",
       "       125.029999,  79.790001, 121.470001, 160.619995,  89.5     ,\n",
       "       109.760002, 118.279999, 174.399994, 102.940002, 104.860001,\n",
       "       119.75    , 160.619995,  86.610001,  92.93    , 111.75    ,\n",
       "       179.100006, 114.739998, 118.959999,  93.860001, 124.910004,\n",
       "       165.309998, 113.910004, 117.260002,  88.279999, 150.410004,\n",
       "       119.730003,  89.440002, 112.650002, 118.360001, 118.830002,\n",
       "        87.690002,  93.860001, 114.459999, 118.230003, 121.160004,\n",
       "       126.449997, 121.559998, 138.720001, 165.070007, 119.32    ,\n",
       "       120.730003, 151.440002, 120.559998, 174.399994, 102.279999,\n",
       "       105.169998, 150.410004, 114.209999, 124.360001, 146.539993,\n",
       "       119.75    , 113.639999, 112.650002, 112.660004, 132.690002,\n",
       "       118.099998, 103.150002, 115.940002, 104.370003,  97.699997,\n",
       "       118.610001,  89.690002,  91.980003, 155.970001, 102.940002,\n",
       "       154.470001, 115.050003, 137.380005,  90.589996, 115.139999,\n",
       "       108.589996, 119.510002, 121.559998, 166.300003,  93.389999,\n",
       "       137.660004, 121.110001, 120.779999, 105.68    , 135.020004,\n",
       "       122.169998, 117.290001, 113.910004, 128.789993, 123.32    ,\n",
       "       125.699997, 121.110001,  87.220001, 132.070007, 135.380005,\n",
       "        91.5     , 161.520004, 161.320007, 126.949997, 168.110001,\n",
       "       110.290001, 108.550003, 103.019997,  95.449997, 129.740005,\n",
       "       107.040001, 161.520004, 121.650002, 131.740005, 130.369995,\n",
       "       157.210007,  90.589996, 177.210007, 129.860001, 126.449997,\n",
       "        87.269997, 124.019997, 150.479996,  89.440002, 107.730003,\n",
       "       108.470001,  88.32    , 134.300003, 154.190002, 135.020004,\n",
       "        72.5     , 151.440002, 126.809998, 127.169998, 127.970001,\n",
       "       108.470001, 157.160004, 113.910004, 116.730003, 123.389999,\n",
       "       154.      , 122.669998, 156.479996,  92.760002, 125.370003,\n",
       "       127.480003,  88.580002,  91.610001, 125.580002, 129.710007,\n",
       "       112.440002, 116.839996, 120.779999, 128.789993, 120.730003,\n",
       "       136.050003,  92.949997, 118.809998, 112.940002,  94.68    ,\n",
       "       109.129997,  86.449997, 108.949997,  90.809998,  93.389999,\n",
       "       130.369995, 161.419998,  88.32    , 120.32    , 133.740005,\n",
       "       124.389999, 129.710007, 101.419998,  91.309998, 130.800003,\n",
       "       123.32    , 108.220001, 173.199997, 113.290001,  86.510002,\n",
       "       118.540001,  91.25    , 161.589996, 118.610001, 123.620003,\n",
       "       159.429993, 120.559998, 114.269997, 108.309998, 126.800003,\n",
       "        75.650002, 103.18    , 129.740005, 121.589996,  92.730003,\n",
       "       132.199997, 118.639999, 116.769997, 156.080002, 161.220001,\n",
       "       110.879997, 132.320007, 119.330002, 160.559998, 117.449997,\n",
       "       160.289993, 114.860001, 116.5     , 145.729996, 115.43    ,\n",
       "       126.339996, 167.339996, 117.139999, 124.779999, 152.710007,\n",
       "       153.050003, 132.070007, 115.139999, 120.910004, 129.740005,\n",
       "        90.279999, 125.32    , 157.320007, 110.459999, 107.730003,\n",
       "       162.300003, 118.769997, 165.800003, 134.75    , 113.269997,\n",
       "       154.130005, 168.710007, 117.769997, 113.830002, 161.449997,\n",
       "        84.459999, 127.120003, 128.270004, 128.110001, 124.360001,\n",
       "       124.400002,  90.800003, 151.910004,  96.5     , 136.050003,\n",
       "        86.449997, 108.470001, 115.110001, 111.75    , 124.959999,\n",
       "        91.449997, 124.970001, 161.419998, 119.82    , 167.580002,\n",
       "       126.449997, 112.040001, 127.620003,  95.449997,  94.349998,\n",
       "       102.279999, 121.110001,  84.279999, 126.589996, 160.460007,\n",
       "       116.610001, 118.68    , 117.610001, 124.389999, 120.620003,\n",
       "       120.940002, 117.650002, 107.040001, 150.410004, 123.730003,\n",
       "       115.199997,  74.      , 127.970001, 154.470001, 118.      ,\n",
       "       125.540001,  88.32    , 102.269997, 123.389999, 120.389999,\n",
       "        73.790001, 152.429993, 120.110001, 103.93    ,  88.949997,\n",
       "       114.769997, 172.339996, 121.470001, 160.649994, 113.669998,\n",
       "       121.790001, 118.639999,  96.5     , 119.169998, 126.07    ,\n",
       "       118.110001,  97.800003, 155.380005, 123.620003, 145.600006,\n",
       "       159.619995, 114.730003, 123.449997, 147.179993, 128.470001,\n",
       "       166.130005, 132.690002, 120.980003, 173.020004, 108.82    ,\n",
       "       122.019997, 135.410004, 103.419998])"
      ]
     },
     "execution_count": 27,
     "metadata": {},
     "output_type": "execute_result"
    }
   ],
   "source": [
    "dt_predict=dt.predict(X_test)\n",
    "dt_predict"
   ]
  },
  {
   "cell_type": "code",
   "execution_count": 28,
   "metadata": {},
   "outputs": [
    {
     "name": "stdout",
     "output_type": "stream",
     "text": [
      "R squared error :  0.988936265176725\n"
     ]
    }
   ],
   "source": [
    "error_score2= metrics.r2_score(Y_test, rf_predict)\n",
    "print(\"R squared error : \", error_score2)"
   ]
  },
  {
   "cell_type": "markdown",
   "metadata": {},
   "source": [
    "Lasso"
   ]
  },
  {
   "cell_type": "code",
   "execution_count": 29,
   "metadata": {},
   "outputs": [
    {
     "data": {
      "text/html": [
       "<style>#sk-container-id-4 {color: black;background-color: white;}#sk-container-id-4 pre{padding: 0;}#sk-container-id-4 div.sk-toggleable {background-color: white;}#sk-container-id-4 label.sk-toggleable__label {cursor: pointer;display: block;width: 100%;margin-bottom: 0;padding: 0.3em;box-sizing: border-box;text-align: center;}#sk-container-id-4 label.sk-toggleable__label-arrow:before {content: \"▸\";float: left;margin-right: 0.25em;color: #696969;}#sk-container-id-4 label.sk-toggleable__label-arrow:hover:before {color: black;}#sk-container-id-4 div.sk-estimator:hover label.sk-toggleable__label-arrow:before {color: black;}#sk-container-id-4 div.sk-toggleable__content {max-height: 0;max-width: 0;overflow: hidden;text-align: left;background-color: #f0f8ff;}#sk-container-id-4 div.sk-toggleable__content pre {margin: 0.2em;color: black;border-radius: 0.25em;background-color: #f0f8ff;}#sk-container-id-4 input.sk-toggleable__control:checked~div.sk-toggleable__content {max-height: 200px;max-width: 100%;overflow: auto;}#sk-container-id-4 input.sk-toggleable__control:checked~label.sk-toggleable__label-arrow:before {content: \"▾\";}#sk-container-id-4 div.sk-estimator input.sk-toggleable__control:checked~label.sk-toggleable__label {background-color: #d4ebff;}#sk-container-id-4 div.sk-label input.sk-toggleable__control:checked~label.sk-toggleable__label {background-color: #d4ebff;}#sk-container-id-4 input.sk-hidden--visually {border: 0;clip: rect(1px 1px 1px 1px);clip: rect(1px, 1px, 1px, 1px);height: 1px;margin: -1px;overflow: hidden;padding: 0;position: absolute;width: 1px;}#sk-container-id-4 div.sk-estimator {font-family: monospace;background-color: #f0f8ff;border: 1px dotted black;border-radius: 0.25em;box-sizing: border-box;margin-bottom: 0.5em;}#sk-container-id-4 div.sk-estimator:hover {background-color: #d4ebff;}#sk-container-id-4 div.sk-parallel-item::after {content: \"\";width: 100%;border-bottom: 1px solid gray;flex-grow: 1;}#sk-container-id-4 div.sk-label:hover label.sk-toggleable__label {background-color: #d4ebff;}#sk-container-id-4 div.sk-serial::before {content: \"\";position: absolute;border-left: 1px solid gray;box-sizing: border-box;top: 0;bottom: 0;left: 50%;z-index: 0;}#sk-container-id-4 div.sk-serial {display: flex;flex-direction: column;align-items: center;background-color: white;padding-right: 0.2em;padding-left: 0.2em;position: relative;}#sk-container-id-4 div.sk-item {position: relative;z-index: 1;}#sk-container-id-4 div.sk-parallel {display: flex;align-items: stretch;justify-content: center;background-color: white;position: relative;}#sk-container-id-4 div.sk-item::before, #sk-container-id-4 div.sk-parallel-item::before {content: \"\";position: absolute;border-left: 1px solid gray;box-sizing: border-box;top: 0;bottom: 0;left: 50%;z-index: -1;}#sk-container-id-4 div.sk-parallel-item {display: flex;flex-direction: column;z-index: 1;position: relative;background-color: white;}#sk-container-id-4 div.sk-parallel-item:first-child::after {align-self: flex-end;width: 50%;}#sk-container-id-4 div.sk-parallel-item:last-child::after {align-self: flex-start;width: 50%;}#sk-container-id-4 div.sk-parallel-item:only-child::after {width: 0;}#sk-container-id-4 div.sk-dashed-wrapped {border: 1px dashed gray;margin: 0 0.4em 0.5em 0.4em;box-sizing: border-box;padding-bottom: 0.4em;background-color: white;}#sk-container-id-4 div.sk-label label {font-family: monospace;font-weight: bold;display: inline-block;line-height: 1.2em;}#sk-container-id-4 div.sk-label-container {text-align: center;}#sk-container-id-4 div.sk-container {/* jupyter's `normalize.less` sets `[hidden] { display: none; }` but bootstrap.min.css set `[hidden] { display: none !important; }` so we also need the `!important` here to be able to override the default hidden behavior on the sphinx rendered scikit-learn.org. See: https://github.com/scikit-learn/scikit-learn/issues/21755 */display: inline-block !important;position: relative;}#sk-container-id-4 div.sk-text-repr-fallback {display: none;}</style><div id=\"sk-container-id-4\" class=\"sk-top-container\"><div class=\"sk-text-repr-fallback\"><pre>Lasso(alpha=0.5)</pre><b>In a Jupyter environment, please rerun this cell to show the HTML representation or trust the notebook. <br />On GitHub, the HTML representation is unable to render, please try loading this page with nbviewer.org.</b></div><div class=\"sk-container\" hidden><div class=\"sk-item\"><div class=\"sk-estimator sk-toggleable\"><input class=\"sk-toggleable__control sk-hidden--visually\" id=\"sk-estimator-id-4\" type=\"checkbox\" checked><label for=\"sk-estimator-id-4\" class=\"sk-toggleable__label sk-toggleable__label-arrow\">Lasso</label><div class=\"sk-toggleable__content\"><pre>Lasso(alpha=0.5)</pre></div></div></div></div></div>"
      ],
      "text/plain": [
       "Lasso(alpha=0.5)"
      ]
     },
     "execution_count": 29,
     "metadata": {},
     "output_type": "execute_result"
    }
   ],
   "source": [
    "from sklearn.linear_model import Lasso\n",
    "ls=Lasso(alpha=0.5)\n",
    "ls.fit(X_train,Y_train)"
   ]
  },
  {
   "cell_type": "code",
   "execution_count": 30,
   "metadata": {},
   "outputs": [
    {
     "data": {
      "text/plain": [
       "array([158.97213402,  80.8477977 , 113.20241113, 128.27452288,\n",
       "       125.53698361, 140.37146788, 165.92365712, 125.05891419,\n",
       "       114.10847427, 123.50726263, 114.09796225, 175.20584722,\n",
       "       132.61078662, 158.6381207 , 117.91182805, 121.77349122,\n",
       "       150.30804054, 160.8219636 , 151.74508199, 162.13447452,\n",
       "       145.49031482, 118.32580983, 180.61274534, 178.44078726,\n",
       "       124.27020343,  99.73705083,  76.41025417, 120.17538828,\n",
       "       114.10498091, 158.63507792,  93.97431335, 120.95675542,\n",
       "        87.54309671, 113.96820966, 111.98865581, 143.8095864 ,\n",
       "       117.94128783, 115.62891983, 143.48447944, 113.21600933,\n",
       "       100.98925471,  89.02536275, 121.30781694, 110.17520703,\n",
       "       145.73304818, 120.02687827, 110.88372775, 110.88142438,\n",
       "        96.8385483 , 124.03013789,  78.67927572, 114.72335232,\n",
       "       121.30512596, 114.12680807, 121.27826153, 117.1258755 ,\n",
       "       152.27414639, 183.07245015, 196.75792585,  91.21405707,\n",
       "       101.91693113,  87.01855997,  94.79888653, 119.73926736,\n",
       "       122.88647298, 126.4557079 , 162.83643392, 123.43561568,\n",
       "       113.78640975, 105.36172197, 154.82814944, 177.03859314,\n",
       "       126.06530476, 113.4010149 , 120.10527502, 120.72087078,\n",
       "       116.9733326 , 118.18371808, 113.0560983 , 129.59763716,\n",
       "       121.11342505, 105.51695909, 117.93869869, 125.54592524,\n",
       "        95.26483531,  88.05324689, 174.36445189, 124.05702234,\n",
       "       120.50167417, 108.19885266, 102.63773016,  74.8213611 ,\n",
       "       160.04516938, 115.85374331, 123.74878738, 128.68796452,\n",
       "       141.02457041,  95.3408268 , 140.79032347, 150.42226302,\n",
       "       121.44307611, 125.87905314, 126.58825173, 116.96132626,\n",
       "       120.00398326,  96.92188574, 108.52077104, 160.35279409,\n",
       "       149.47444396, 116.19035163, 102.30617375,  77.95160563,\n",
       "       113.91055111, 122.89574978, 110.90057328, 119.80637892,\n",
       "       144.13634895, 150.36687997, 121.09917292, 148.65764062,\n",
       "       103.5860855 , 113.10070158, 116.4259798 , 113.48650512,\n",
       "       111.13046629, 149.42466144, 104.55889456, 162.98229117,\n",
       "       126.93209996, 159.07830643, 123.13551021, 123.63897627,\n",
       "       122.83565321, 114.41629038, 118.93281301, 122.20899281,\n",
       "       109.89590946,  93.54762162, 121.41177149, 106.57144933,\n",
       "       106.65508829, 120.9993896 , 122.94472211, 105.49729906,\n",
       "       124.38230879, 156.54755956,  90.160146  , 111.11220776,\n",
       "       116.23499741, 129.32614022, 123.26671752,  87.26921132,\n",
       "       125.10754104, 149.04103919,  93.28111369, 112.70877361,\n",
       "       114.89556997, 174.53585898, 110.76691197, 111.72256577,\n",
       "       124.0725667 , 149.05027117,  92.37091502,  97.62344637,\n",
       "       119.69791628, 181.45023069, 121.59288585, 116.4808188 ,\n",
       "        99.71086099, 120.11140127, 153.40170237, 116.59069009,\n",
       "       116.09467774,  87.92583736, 201.34956453, 111.8607086 ,\n",
       "        96.47491431, 110.32227378, 110.57334817, 123.63975404,\n",
       "        91.14057102,  99.81782636, 117.68156117, 111.19630231,\n",
       "       119.96273042, 124.09502978, 116.13006838, 148.62280899,\n",
       "       156.76436618, 121.36327798, 118.89879345, 145.27565142,\n",
       "       110.3648768 , 174.01415218, 107.60679816, 111.98234608,\n",
       "       202.25846559, 120.60432037, 123.88218547, 162.9674075 ,\n",
       "       111.66650663, 116.32748614, 110.30000134, 111.65282582,\n",
       "       142.97153899, 113.93366694, 111.46869793, 116.20249195,\n",
       "       101.20119123, 106.34086482, 120.0609348 ,  97.32073886,\n",
       "        95.89138972, 143.33596962, 110.90531472, 144.90675708,\n",
       "       112.32623949, 159.61136337,  90.45477772, 114.08855755,\n",
       "       116.76018406, 121.3236708 , 115.68288763, 155.75878945,\n",
       "       100.33050661, 138.6478482 , 123.17489585, 121.28722596,\n",
       "       110.5809788 , 144.58242134, 120.29005393, 119.16400729,\n",
       "       120.36951905, 123.90596084, 119.86627117, 122.7438621 ,\n",
       "       123.17315057,  89.5978869 , 127.76056916, 142.98990245,\n",
       "        88.33022245, 164.11961081, 150.14270823, 125.87359679,\n",
       "       156.67280976, 117.72278619, 114.41869819, 109.88040859,\n",
       "        99.13067773, 128.6569875 , 105.5150203 , 164.77903996,\n",
       "       124.24099558, 128.06313367, 126.79494204, 152.90868867,\n",
       "        90.87820852, 180.65293545, 122.28774168, 123.76711502,\n",
       "        93.71225195, 118.70910219, 168.38741477,  96.47373564,\n",
       "       111.50155978, 105.74507866,  81.9104003 , 129.37426958,\n",
       "       147.40228742, 144.59261156,  80.17731135, 145.63710139,\n",
       "       125.65713588, 124.27398861, 122.56133484, 106.53962966,\n",
       "       143.71841081, 116.75283219, 123.15490431, 120.1524497 ,\n",
       "       145.86106949, 121.8118939 , 142.71511685,  97.63827854,\n",
       "       122.00193606, 118.95838478,  96.01689266,  96.22948263,\n",
       "       123.38998061, 120.35391954, 114.108989  , 110.54886088,\n",
       "       121.63246022, 124.11850988, 118.79762196, 144.52846159,\n",
       "       100.24060084, 122.21994876, 110.66264907,  98.65651023,\n",
       "       104.38879602,  81.75057475, 108.54717135,  94.89292642,\n",
       "        99.16099191, 128.4149246 , 154.44108541,  94.70466575,\n",
       "       121.11464316, 125.4905822 , 123.28487522, 123.30458819,\n",
       "       110.18013269,  93.72609497, 144.22052324, 119.09232024,\n",
       "       111.58052777, 159.08671666, 115.80062793,  89.27211693,\n",
       "       124.78228784,  94.45479847, 154.44308625, 119.81888876,\n",
       "       121.42892866, 149.92993708, 111.00551578, 112.55811837,\n",
       "       103.54286422, 122.90654035,  78.61963297, 110.75161356,\n",
       "       129.07244971, 121.78801652,  97.79465151, 138.07145146,\n",
       "       117.03672741, 120.2338965 , 147.12235497, 148.2843461 ,\n",
       "       114.3164356 , 155.99793403, 125.29467901, 149.88625779,\n",
       "       124.74500687, 152.02056805, 113.90187645, 120.57950498,\n",
       "       161.45083964, 115.91106461, 125.10026203, 157.33414648,\n",
       "       120.22542557, 125.31782261, 146.98927485, 140.30591004,\n",
       "       128.04015827, 115.47527961, 113.42461594, 125.09731961,\n",
       "        94.1516184 , 119.65683024, 142.77837798, 110.64198218,\n",
       "       111.07061171, 153.45572574, 117.39604224, 158.73072304,\n",
       "       131.11376073, 119.82335597, 139.76009623, 161.56121008,\n",
       "       112.86725726, 114.77711892, 153.21707379,  88.77763857,\n",
       "       121.73009118, 129.02856041, 125.77921874, 125.0294412 ,\n",
       "       122.04850021,  94.29975806, 141.67978763, 104.72425289,\n",
       "       145.42784347,  93.56564129, 105.61033462, 115.95496586,\n",
       "       119.7190424 , 120.99224372,  95.26636138, 121.37839278,\n",
       "       153.9933096 , 117.85094762, 156.09841356, 124.23985169,\n",
       "       110.57192345, 125.52710501, 100.4996159 ,  94.62117821,\n",
       "       106.96771803, 121.84970257,  79.20328049, 126.44200603,\n",
       "       152.36920732, 114.78888035, 114.44137606, 119.90368099,\n",
       "       116.60211262, 122.75765822, 121.50201603, 120.6940545 ,\n",
       "       105.82193611, 192.11053862, 123.0661486 , 116.23808783,\n",
       "        77.00300844, 125.75728202, 142.4766097 , 121.16906933,\n",
       "       122.11768917,  94.72308589, 110.949475  , 120.59739875,\n",
       "       111.6409651 ,  78.38754589, 142.48641765, 121.44011244,\n",
       "       112.43288005,  89.11501223, 113.74671069, 162.82147349,\n",
       "       124.75143323, 152.05224383, 113.46851394, 118.07296447,\n",
       "       117.20422371, 104.76045766, 117.92510435, 125.72731561,\n",
       "       120.68531672, 100.56566623, 143.23571   , 121.58158063,\n",
       "       161.13348374, 149.07588153, 109.79720447, 120.82480992,\n",
       "       159.44196731, 118.46637973, 157.80223153, 143.50254332,\n",
       "       120.19774898, 159.30359841, 110.85961706, 125.74162101,\n",
       "       144.50478458, 108.30366534])"
      ]
     },
     "execution_count": 30,
     "metadata": {},
     "output_type": "execute_result"
    }
   ],
   "source": [
    "ls_pred=ls.predict(X_test)\n",
    "ls_pred"
   ]
  },
  {
   "cell_type": "code",
   "execution_count": 31,
   "metadata": {},
   "outputs": [
    {
     "data": {
      "text/plain": [
       "array([ 0.00737792, -0.29494232,  3.14349132, -0.        ])"
      ]
     },
     "execution_count": 31,
     "metadata": {},
     "output_type": "execute_result"
    }
   ],
   "source": [
    "ls.coef_"
   ]
  },
  {
   "cell_type": "code",
   "execution_count": 32,
   "metadata": {},
   "outputs": [
    {
     "data": {
      "text/plain": [
       "56.88182834870325"
      ]
     },
     "execution_count": 32,
     "metadata": {},
     "output_type": "execute_result"
    }
   ],
   "source": [
    "ls.intercept_"
   ]
  },
  {
   "cell_type": "code",
   "execution_count": 33,
   "metadata": {},
   "outputs": [
    {
     "name": "stdout",
     "output_type": "stream",
     "text": [
      "R squared error :  0.8642960340987913\n"
     ]
    }
   ],
   "source": [
    "error_score3= metrics.r2_score(Y_test, ls_pred)\n",
    "print(\"R squared error : \", error_score3)"
   ]
  },
  {
   "cell_type": "code",
   "execution_count": 34,
   "metadata": {},
   "outputs": [
    {
     "data": {
      "text/html": [
       "<style>#sk-container-id-5 {color: black;background-color: white;}#sk-container-id-5 pre{padding: 0;}#sk-container-id-5 div.sk-toggleable {background-color: white;}#sk-container-id-5 label.sk-toggleable__label {cursor: pointer;display: block;width: 100%;margin-bottom: 0;padding: 0.3em;box-sizing: border-box;text-align: center;}#sk-container-id-5 label.sk-toggleable__label-arrow:before {content: \"▸\";float: left;margin-right: 0.25em;color: #696969;}#sk-container-id-5 label.sk-toggleable__label-arrow:hover:before {color: black;}#sk-container-id-5 div.sk-estimator:hover label.sk-toggleable__label-arrow:before {color: black;}#sk-container-id-5 div.sk-toggleable__content {max-height: 0;max-width: 0;overflow: hidden;text-align: left;background-color: #f0f8ff;}#sk-container-id-5 div.sk-toggleable__content pre {margin: 0.2em;color: black;border-radius: 0.25em;background-color: #f0f8ff;}#sk-container-id-5 input.sk-toggleable__control:checked~div.sk-toggleable__content {max-height: 200px;max-width: 100%;overflow: auto;}#sk-container-id-5 input.sk-toggleable__control:checked~label.sk-toggleable__label-arrow:before {content: \"▾\";}#sk-container-id-5 div.sk-estimator input.sk-toggleable__control:checked~label.sk-toggleable__label {background-color: #d4ebff;}#sk-container-id-5 div.sk-label input.sk-toggleable__control:checked~label.sk-toggleable__label {background-color: #d4ebff;}#sk-container-id-5 input.sk-hidden--visually {border: 0;clip: rect(1px 1px 1px 1px);clip: rect(1px, 1px, 1px, 1px);height: 1px;margin: -1px;overflow: hidden;padding: 0;position: absolute;width: 1px;}#sk-container-id-5 div.sk-estimator {font-family: monospace;background-color: #f0f8ff;border: 1px dotted black;border-radius: 0.25em;box-sizing: border-box;margin-bottom: 0.5em;}#sk-container-id-5 div.sk-estimator:hover {background-color: #d4ebff;}#sk-container-id-5 div.sk-parallel-item::after {content: \"\";width: 100%;border-bottom: 1px solid gray;flex-grow: 1;}#sk-container-id-5 div.sk-label:hover label.sk-toggleable__label {background-color: #d4ebff;}#sk-container-id-5 div.sk-serial::before {content: \"\";position: absolute;border-left: 1px solid gray;box-sizing: border-box;top: 0;bottom: 0;left: 50%;z-index: 0;}#sk-container-id-5 div.sk-serial {display: flex;flex-direction: column;align-items: center;background-color: white;padding-right: 0.2em;padding-left: 0.2em;position: relative;}#sk-container-id-5 div.sk-item {position: relative;z-index: 1;}#sk-container-id-5 div.sk-parallel {display: flex;align-items: stretch;justify-content: center;background-color: white;position: relative;}#sk-container-id-5 div.sk-item::before, #sk-container-id-5 div.sk-parallel-item::before {content: \"\";position: absolute;border-left: 1px solid gray;box-sizing: border-box;top: 0;bottom: 0;left: 50%;z-index: -1;}#sk-container-id-5 div.sk-parallel-item {display: flex;flex-direction: column;z-index: 1;position: relative;background-color: white;}#sk-container-id-5 div.sk-parallel-item:first-child::after {align-self: flex-end;width: 50%;}#sk-container-id-5 div.sk-parallel-item:last-child::after {align-self: flex-start;width: 50%;}#sk-container-id-5 div.sk-parallel-item:only-child::after {width: 0;}#sk-container-id-5 div.sk-dashed-wrapped {border: 1px dashed gray;margin: 0 0.4em 0.5em 0.4em;box-sizing: border-box;padding-bottom: 0.4em;background-color: white;}#sk-container-id-5 div.sk-label label {font-family: monospace;font-weight: bold;display: inline-block;line-height: 1.2em;}#sk-container-id-5 div.sk-label-container {text-align: center;}#sk-container-id-5 div.sk-container {/* jupyter's `normalize.less` sets `[hidden] { display: none; }` but bootstrap.min.css set `[hidden] { display: none !important; }` so we also need the `!important` here to be able to override the default hidden behavior on the sphinx rendered scikit-learn.org. See: https://github.com/scikit-learn/scikit-learn/issues/21755 */display: inline-block !important;position: relative;}#sk-container-id-5 div.sk-text-repr-fallback {display: none;}</style><div id=\"sk-container-id-5\" class=\"sk-top-container\"><div class=\"sk-text-repr-fallback\"><pre>Ridge(alpha=0.5)</pre><b>In a Jupyter environment, please rerun this cell to show the HTML representation or trust the notebook. <br />On GitHub, the HTML representation is unable to render, please try loading this page with nbviewer.org.</b></div><div class=\"sk-container\" hidden><div class=\"sk-item\"><div class=\"sk-estimator sk-toggleable\"><input class=\"sk-toggleable__control sk-hidden--visually\" id=\"sk-estimator-id-5\" type=\"checkbox\" checked><label for=\"sk-estimator-id-5\" class=\"sk-toggleable__label sk-toggleable__label-arrow\">Ridge</label><div class=\"sk-toggleable__content\"><pre>Ridge(alpha=0.5)</pre></div></div></div></div></div>"
      ],
      "text/plain": [
       "Ridge(alpha=0.5)"
      ]
     },
     "execution_count": 34,
     "metadata": {},
     "output_type": "execute_result"
    }
   ],
   "source": [
    "from sklearn.linear_model import Ridge\n",
    "rd=Ridge(alpha=0.5)\n",
    "rd.fit(X_train,Y_train)"
   ]
  },
  {
   "cell_type": "code",
   "execution_count": 35,
   "metadata": {
    "scrolled": false
   },
   "outputs": [
    {
     "data": {
      "text/plain": [
       "array([159.43132496,  81.45666005, 113.46880497, 128.53624261,\n",
       "       126.16427788, 141.26505489, 165.52904539, 124.47948551,\n",
       "       113.96073722, 123.02646324, 113.96120369, 174.92577206,\n",
       "       132.66740867, 159.21860871, 118.81986245, 122.1205721 ,\n",
       "       150.37362898, 161.25236412, 152.25283028, 162.20386858,\n",
       "       145.86452391, 118.09043602, 180.25392563, 178.1634116 ,\n",
       "       123.56187568,  98.8803987 ,  76.60984995, 119.43112601,\n",
       "       113.86355253, 159.22725045,  93.76936172, 120.10698508,\n",
       "        88.53426917, 114.26789385, 112.73058588, 144.17656227,\n",
       "       118.73074202, 115.85757849, 144.03363322, 113.78053057,\n",
       "       100.52303903,  89.39284264, 120.42304887, 110.45653947,\n",
       "       146.44869837, 119.34596127, 110.98498221, 111.30914191,\n",
       "        96.49413118, 123.44509211,  79.45578052, 115.32082469,\n",
       "       121.75985646, 114.52647469, 120.92939619, 117.10601851,\n",
       "       152.31567663, 182.80426462, 196.75172447,  91.06552376,\n",
       "       101.91372007,  87.44443497,  94.3561876 , 119.20649768,\n",
       "       121.9524778 , 125.89322703, 163.25178638, 122.94244384,\n",
       "       113.5627416 , 104.1446534 , 155.15407073, 176.90011673,\n",
       "       125.65262567, 113.83062265, 119.71900208, 120.07227319,\n",
       "       117.79754198, 118.34787381, 113.68714902, 129.95312678,\n",
       "       121.70449554, 104.69166284, 117.21841698, 126.27142259,\n",
       "        94.66047908,  88.59557003, 173.83884454, 123.42881796,\n",
       "       121.076283  , 106.93076711, 102.44027985,  75.5849521 ,\n",
       "       160.60409143, 116.49212955, 123.45156853, 128.89774507,\n",
       "       141.92213681,  94.92401303, 140.60747381, 150.86029013,\n",
       "       120.6630945 , 126.17005501, 126.18507241, 117.7390877 ,\n",
       "       120.22226753,  96.12532339, 108.46389403, 160.72443993,\n",
       "       149.27451145, 116.85997417, 101.91830659,  78.50529951,\n",
       "       113.57227618, 121.92610177, 111.46973421, 119.96019285,\n",
       "       144.89217473, 150.4798762 , 120.50168846, 148.63822359,\n",
       "       102.43253059, 113.04318285, 116.65756203, 114.12748719,\n",
       "       111.68347769, 149.60001389, 103.34591987, 162.84226035,\n",
       "       127.24377174, 159.34637162, 122.72038528, 123.05413581,\n",
       "       121.72759754, 114.1774802 , 119.68140153, 121.70112044,\n",
       "       110.3783783 ,  93.51169209, 120.91766977, 105.36858353,\n",
       "       105.7957711 , 121.77917277, 123.34486145, 104.42674439,\n",
       "       124.41009183, 157.12049321,  90.26919964, 111.71403345,\n",
       "       116.24173633, 129.69549727, 122.69809081,  86.88456442,\n",
       "       125.552966  , 149.15459837,  93.201707  , 113.37459288,\n",
       "       114.77095324, 174.23968984, 111.49902461, 112.22959259,\n",
       "       124.56929453, 149.13868131,  92.28769349,  96.67854488,\n",
       "       120.3005638 , 181.09635838, 122.1709701 , 116.73320254,\n",
       "        99.21800179, 119.35798521, 153.68755481, 117.36235272,\n",
       "       116.04755693,  88.44663909, 201.20692384, 112.65114069,\n",
       "        95.93408824, 110.27927782, 110.77758466, 124.1261821 ,\n",
       "        91.38253484,  99.28432084, 118.19079733, 111.44465554,\n",
       "       120.20025633, 123.75855276, 116.56977971, 149.1864501 ,\n",
       "       157.39470185, 121.42830755, 118.68336196, 145.29381967,\n",
       "       111.39431555, 173.84771294, 106.41553387, 112.59979007,\n",
       "       202.06077851, 121.29582251, 123.23925695, 162.59855392,\n",
       "       111.94328839, 116.8821834 , 110.20010368, 111.52805008,\n",
       "       143.42062942, 113.75306778, 111.93772977, 116.59758796,\n",
       "       100.74978726, 105.12143931, 119.95465194,  96.85771941,\n",
       "        95.44716236, 143.70486901, 111.65805814, 145.41615176,\n",
       "       112.10592416, 159.67750974,  90.66593936, 113.89014108,\n",
       "       117.08446089, 120.86020201, 116.01795041, 156.15707927,\n",
       "       100.39932767, 138.5231403 , 122.83140748, 121.70468457,\n",
       "       111.18032691, 145.09489677, 119.66725346, 118.95027596,\n",
       "       121.07956277, 123.51938931, 119.47721655, 121.74848856,\n",
       "       122.82027168,  89.82941965, 127.54313793, 143.46800332,\n",
       "        89.07441092, 163.84272162, 150.54355505, 125.39348471,\n",
       "       157.26084334, 118.54252832, 114.74685499, 110.3770716 ,\n",
       "        99.2680233 , 129.16075717, 104.94411049, 164.53093284,\n",
       "       124.2773651 , 127.95337033, 126.36214524, 152.9278979 ,\n",
       "        91.00698204, 180.17111389, 121.38899716, 123.40366473,\n",
       "        92.97657888, 118.89849317, 167.79564058,  95.99799149,\n",
       "       112.03580316, 105.49895354,  82.3527251 , 129.3699083 ,\n",
       "       147.61767515, 145.09811773,  81.0062523 , 145.72439861,\n",
       "       125.12198358, 123.35093267, 121.61601675, 106.2356848 ,\n",
       "       144.34227122, 117.59643799, 123.64266186, 119.83822683,\n",
       "       146.08294121, 121.34180244, 143.65214106,  96.80276526,\n",
       "       121.10605097, 118.86286135,  95.85903333,  95.72827703,\n",
       "       122.86975137, 120.24522991, 114.71154023, 111.33305092,\n",
       "       122.08853862, 123.73219981, 118.60983913, 144.89028782,\n",
       "        99.3197989 , 122.103137  , 109.41879777,  97.74662801,\n",
       "       103.85949537,  82.13994418, 108.48683551,  94.59857681,\n",
       "        99.3427415 , 127.95237242, 154.5312059 ,  94.8206965 ,\n",
       "       120.59354317, 125.28555928, 123.71428027, 123.16266831,\n",
       "       110.62412019,  93.76469654, 144.06384403, 118.73092475,\n",
       "       111.63768661, 159.07972415, 116.1937491 ,  89.56390158,\n",
       "       125.35879605,  93.81454737, 155.07297826, 119.71440764,\n",
       "       120.9223817 , 150.19936896, 112.00701879, 112.19174831,\n",
       "       103.41280662, 121.95027892,  79.3398259 , 111.28708196,\n",
       "       129.55090755, 121.23512573,  97.52700055, 138.03975582,\n",
       "       117.13860055, 120.75839862, 147.39937873, 149.10398033,\n",
       "       115.28258001, 156.03625223, 125.77278031, 150.03322085,\n",
       "       125.45090052, 152.08457114, 113.67843703, 120.92276066,\n",
       "       160.9924032 , 116.75318377, 125.31804631, 157.19662494,\n",
       "       120.46772961, 125.64321369, 147.1573361 , 141.17998549,\n",
       "       127.87941795, 116.43501743, 113.83305301, 125.53877076,\n",
       "        93.73769507, 119.90229876, 143.53420304, 110.49893233,\n",
       "       111.53042901, 153.33888013, 117.50838862, 159.12559003,\n",
       "       130.65017588, 120.44007082, 140.64190532, 162.01564744,\n",
       "       113.2094553 , 115.7269641 , 153.14162952,  87.66307732,\n",
       "       120.81716884, 129.35326275, 125.12452399, 124.51150762,\n",
       "       122.49352519,  94.35447651, 142.51324283, 104.65543361,\n",
       "       145.67226554,  93.18743177, 104.76116809, 116.50367507,\n",
       "       120.47693735, 120.48024022,  94.72014596, 120.64307053,\n",
       "       154.14707274, 117.22775693, 156.47968195, 123.88655135,\n",
       "       110.42294074, 124.89154937, 100.66650978,  94.38127712,\n",
       "       105.78845412, 122.33807843,  79.92202848, 126.69482605,\n",
       "       152.85696593, 114.88034671, 114.94630895, 119.13720749,\n",
       "       116.78131195, 122.83950357, 120.94513491, 120.87466514,\n",
       "       105.11253862, 191.9347486 , 122.62459447, 116.60268618,\n",
       "        77.78947098, 124.72323485, 143.22722345, 120.41786924,\n",
       "       121.10086067,  94.51676485, 111.33979971, 119.80440846,\n",
       "       112.43412339,  79.08183888, 142.62495857, 121.86847632,\n",
       "       113.03475473,  88.42997692, 114.01550303, 163.37818856,\n",
       "       125.17872444, 152.11678236, 113.26417574, 118.59019388,\n",
       "       117.28061074, 104.67909586, 118.38865432, 126.03179586,\n",
       "       120.428771  , 100.68553237, 143.80131798, 121.04658084,\n",
       "       160.5675306 , 149.54929089, 108.50326383, 120.96241418,\n",
       "       158.92666476, 118.22846306, 158.1046456 , 143.82197554,\n",
       "       120.46108723, 159.83968523, 111.21557794, 126.41171943,\n",
       "       144.91381731, 107.02832861])"
      ]
     },
     "execution_count": 35,
     "metadata": {},
     "output_type": "execute_result"
    }
   ],
   "source": [
    "rd_pred=rd.predict(X_test)\n",
    "rd_pred"
   ]
  },
  {
   "cell_type": "code",
   "execution_count": 36,
   "metadata": {},
   "outputs": [
    {
     "data": {
      "text/plain": [
       "array([ 6.86032341e-03, -2.59200491e-01,  3.17582919e+00, -8.45590474e+00])"
      ]
     },
     "execution_count": 36,
     "metadata": {},
     "output_type": "execute_result"
    }
   ],
   "source": [
    "rd.coef_"
   ]
  },
  {
   "cell_type": "code",
   "execution_count": 37,
   "metadata": {},
   "outputs": [
    {
     "data": {
      "text/plain": [
       "66.80971885938398"
      ]
     },
     "execution_count": 37,
     "metadata": {},
     "output_type": "execute_result"
    }
   ],
   "source": [
    "rd.intercept_"
   ]
  },
  {
   "cell_type": "code",
   "execution_count": 38,
   "metadata": {},
   "outputs": [
    {
     "name": "stdout",
     "output_type": "stream",
     "text": [
      "R squared error :  0.8657200384639034\n"
     ]
    }
   ],
   "source": [
    "error_score4= metrics.r2_score(Y_test, rd_pred)\n",
    "print(\"R squared error : \", error_score4)"
   ]
  },
  {
   "cell_type": "code",
   "execution_count": null,
   "metadata": {},
   "outputs": [],
   "source": []
  }
 ],
 "metadata": {
  "colab": {
   "provenance": []
  },
  "kernelspec": {
   "display_name": "Python 3 (ipykernel)",
   "language": "python",
   "name": "python3"
  },
  "language_info": {
   "codemirror_mode": {
    "name": "ipython",
    "version": 3
   },
   "file_extension": ".py",
   "mimetype": "text/x-python",
   "name": "python",
   "nbconvert_exporter": "python",
   "pygments_lexer": "ipython3",
   "version": "3.9.7"
  }
 },
 "nbformat": 4,
 "nbformat_minor": 1
}
